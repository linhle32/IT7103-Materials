{
 "cells": [
  {
   "cell_type": "markdown",
   "id": "55775065",
   "metadata": {},
   "source": [
    "<h2>Preliminary Analysis and Data Preprocessing</h2>\n",
    "\n",
    "In this module, we talk about exploratory analysis on the data to detect potential problems that are then fixed with data preprocessing.\n",
    "\n",
    "We will use the loan data. The columns in the data are as follows. The target in this data is Loan Status - whether the loan has been fully paid or charged off. \n",
    "\n",
    "- Loan ID                      \n",
    "- Customer ID                  \n",
    "- Loan Status                  \n",
    "- Current Loan Amount          \n",
    "- Term                         \n",
    "- Credit Score                 \n",
    "- Annual Income                \n",
    "- Years in current job         \n",
    "- Home Ownership               \n",
    "- Purpose                      \n",
    "- Monthly Debt                 \n",
    "- Years of Credit History      \n",
    "- Months since last delinquent \n",
    "- Number of Open Accounts      \n",
    "- Number of Credit Problems    \n",
    "- Current Credit Balance       \n",
    "- Maximum Open Credit          \n",
    "- Bankruptcies                 \n",
    "- Tax Liens\n",
    "\n",
    "As usual, we import the necessary libraries and load the data."
   ]
  },
  {
   "cell_type": "code",
   "execution_count": 1,
   "id": "8dc3b585",
   "metadata": {},
   "outputs": [],
   "source": [
    "import pandas as pd\n",
    "import numpy as np"
   ]
  },
  {
   "cell_type": "code",
   "execution_count": 2,
   "id": "0fdda641",
   "metadata": {
    "scrolled": true
   },
   "outputs": [
    {
     "data": {
      "text/html": [
       "<div>\n",
       "<style scoped>\n",
       "    .dataframe tbody tr th:only-of-type {\n",
       "        vertical-align: middle;\n",
       "    }\n",
       "\n",
       "    .dataframe tbody tr th {\n",
       "        vertical-align: top;\n",
       "    }\n",
       "\n",
       "    .dataframe thead th {\n",
       "        text-align: right;\n",
       "    }\n",
       "</style>\n",
       "<table border=\"1\" class=\"dataframe\">\n",
       "  <thead>\n",
       "    <tr style=\"text-align: right;\">\n",
       "      <th></th>\n",
       "      <th>Loan ID</th>\n",
       "      <th>Customer ID</th>\n",
       "      <th>Loan Status</th>\n",
       "      <th>Current Loan Amount</th>\n",
       "      <th>Term</th>\n",
       "      <th>Credit Score</th>\n",
       "      <th>Annual Income</th>\n",
       "      <th>Years in current job</th>\n",
       "      <th>Home Ownership</th>\n",
       "      <th>Purpose</th>\n",
       "      <th>Monthly Debt</th>\n",
       "      <th>Years of Credit History</th>\n",
       "      <th>Months since last delinquent</th>\n",
       "      <th>Number of Open Accounts</th>\n",
       "      <th>Number of Credit Problems</th>\n",
       "      <th>Current Credit Balance</th>\n",
       "      <th>Maximum Open Credit</th>\n",
       "      <th>Bankruptcies</th>\n",
       "      <th>Tax Liens</th>\n",
       "    </tr>\n",
       "  </thead>\n",
       "  <tbody>\n",
       "    <tr>\n",
       "      <th>0</th>\n",
       "      <td>14dd8831-6af5-400b-83ec-68e61888a048</td>\n",
       "      <td>981165ec-3274-42f5-a3b4-d104041a9ca9</td>\n",
       "      <td>Fully Paid</td>\n",
       "      <td>445412</td>\n",
       "      <td>Short Term</td>\n",
       "      <td>709.0</td>\n",
       "      <td>1167493.0</td>\n",
       "      <td>8 years</td>\n",
       "      <td>Home Mortgage</td>\n",
       "      <td>Home Improvements</td>\n",
       "      <td>5214.74</td>\n",
       "      <td>17.2</td>\n",
       "      <td>NaN</td>\n",
       "      <td>6</td>\n",
       "      <td>1</td>\n",
       "      <td>228190</td>\n",
       "      <td>416746.0</td>\n",
       "      <td>1.0</td>\n",
       "      <td>0.0</td>\n",
       "    </tr>\n",
       "    <tr>\n",
       "      <th>1</th>\n",
       "      <td>4771cc26-131a-45db-b5aa-537ea4ba5342</td>\n",
       "      <td>2de017a3-2e01-49cb-a581-08169e83be29</td>\n",
       "      <td>Fully Paid</td>\n",
       "      <td>262328</td>\n",
       "      <td>Short Term</td>\n",
       "      <td>NaN</td>\n",
       "      <td>NaN</td>\n",
       "      <td>10+ years</td>\n",
       "      <td>Home Mortgage</td>\n",
       "      <td>Debt Consolidation</td>\n",
       "      <td>33295.98</td>\n",
       "      <td>21.1</td>\n",
       "      <td>8.0</td>\n",
       "      <td>35</td>\n",
       "      <td>0</td>\n",
       "      <td>229976</td>\n",
       "      <td>850784.0</td>\n",
       "      <td>0.0</td>\n",
       "      <td>0.0</td>\n",
       "    </tr>\n",
       "    <tr>\n",
       "      <th>2</th>\n",
       "      <td>4eed4e6a-aa2f-4c91-8651-ce984ee8fb26</td>\n",
       "      <td>5efb2b2b-bf11-4dfd-a572-3761a2694725</td>\n",
       "      <td>Fully Paid</td>\n",
       "      <td>99999999</td>\n",
       "      <td>Short Term</td>\n",
       "      <td>741.0</td>\n",
       "      <td>2231892.0</td>\n",
       "      <td>8 years</td>\n",
       "      <td>Own Home</td>\n",
       "      <td>Debt Consolidation</td>\n",
       "      <td>29200.53</td>\n",
       "      <td>14.9</td>\n",
       "      <td>29.0</td>\n",
       "      <td>18</td>\n",
       "      <td>1</td>\n",
       "      <td>297996</td>\n",
       "      <td>750090.0</td>\n",
       "      <td>0.0</td>\n",
       "      <td>0.0</td>\n",
       "    </tr>\n",
       "    <tr>\n",
       "      <th>3</th>\n",
       "      <td>77598f7b-32e7-4e3b-a6e5-06ba0d98fe8a</td>\n",
       "      <td>e777faab-98ae-45af-9a86-7ce5b33b1011</td>\n",
       "      <td>Fully Paid</td>\n",
       "      <td>347666</td>\n",
       "      <td>Long Term</td>\n",
       "      <td>721.0</td>\n",
       "      <td>806949.0</td>\n",
       "      <td>3 years</td>\n",
       "      <td>Own Home</td>\n",
       "      <td>Debt Consolidation</td>\n",
       "      <td>8741.90</td>\n",
       "      <td>12.0</td>\n",
       "      <td>NaN</td>\n",
       "      <td>9</td>\n",
       "      <td>0</td>\n",
       "      <td>256329</td>\n",
       "      <td>386958.0</td>\n",
       "      <td>0.0</td>\n",
       "      <td>0.0</td>\n",
       "    </tr>\n",
       "    <tr>\n",
       "      <th>4</th>\n",
       "      <td>d4062e70-befa-4995-8643-a0de73938182</td>\n",
       "      <td>81536ad9-5ccf-4eb8-befb-47a4d608658e</td>\n",
       "      <td>Fully Paid</td>\n",
       "      <td>176220</td>\n",
       "      <td>Short Term</td>\n",
       "      <td>NaN</td>\n",
       "      <td>NaN</td>\n",
       "      <td>5 years</td>\n",
       "      <td>Rent</td>\n",
       "      <td>Debt Consolidation</td>\n",
       "      <td>20639.70</td>\n",
       "      <td>6.1</td>\n",
       "      <td>NaN</td>\n",
       "      <td>15</td>\n",
       "      <td>0</td>\n",
       "      <td>253460</td>\n",
       "      <td>427174.0</td>\n",
       "      <td>0.0</td>\n",
       "      <td>0.0</td>\n",
       "    </tr>\n",
       "    <tr>\n",
       "      <th>...</th>\n",
       "      <td>...</td>\n",
       "      <td>...</td>\n",
       "      <td>...</td>\n",
       "      <td>...</td>\n",
       "      <td>...</td>\n",
       "      <td>...</td>\n",
       "      <td>...</td>\n",
       "      <td>...</td>\n",
       "      <td>...</td>\n",
       "      <td>...</td>\n",
       "      <td>...</td>\n",
       "      <td>...</td>\n",
       "      <td>...</td>\n",
       "      <td>...</td>\n",
       "      <td>...</td>\n",
       "      <td>...</td>\n",
       "      <td>...</td>\n",
       "      <td>...</td>\n",
       "      <td>...</td>\n",
       "    </tr>\n",
       "    <tr>\n",
       "      <th>99995</th>\n",
       "      <td>3f94c18c-ba8f-45d0-8610-88a684a410a9</td>\n",
       "      <td>2da51983-cfef-4b8f-a733-5dfaf69e9281</td>\n",
       "      <td>Fully Paid</td>\n",
       "      <td>147070</td>\n",
       "      <td>Short Term</td>\n",
       "      <td>725.0</td>\n",
       "      <td>475437.0</td>\n",
       "      <td>7 years</td>\n",
       "      <td>Own Home</td>\n",
       "      <td>other</td>\n",
       "      <td>2202.86</td>\n",
       "      <td>22.3</td>\n",
       "      <td>NaN</td>\n",
       "      <td>5</td>\n",
       "      <td>0</td>\n",
       "      <td>47766</td>\n",
       "      <td>658548.0</td>\n",
       "      <td>0.0</td>\n",
       "      <td>0.0</td>\n",
       "    </tr>\n",
       "    <tr>\n",
       "      <th>99996</th>\n",
       "      <td>06eba04f-58fc-424a-b666-ed72aa008900</td>\n",
       "      <td>77f2252a-b7d1-4b07-a746-1202a8304290</td>\n",
       "      <td>Fully Paid</td>\n",
       "      <td>99999999</td>\n",
       "      <td>Short Term</td>\n",
       "      <td>732.0</td>\n",
       "      <td>1289416.0</td>\n",
       "      <td>1 year</td>\n",
       "      <td>Rent</td>\n",
       "      <td>Debt Consolidation</td>\n",
       "      <td>13109.05</td>\n",
       "      <td>9.4</td>\n",
       "      <td>21.0</td>\n",
       "      <td>22</td>\n",
       "      <td>0</td>\n",
       "      <td>153045</td>\n",
       "      <td>509234.0</td>\n",
       "      <td>0.0</td>\n",
       "      <td>0.0</td>\n",
       "    </tr>\n",
       "    <tr>\n",
       "      <th>99997</th>\n",
       "      <td>e1cb4050-eff5-4bdb-a1b0-aabd3f7eaac7</td>\n",
       "      <td>2ced5f10-bd60-4a11-9134-cadce4e7b0a3</td>\n",
       "      <td>Fully Paid</td>\n",
       "      <td>103136</td>\n",
       "      <td>Short Term</td>\n",
       "      <td>742.0</td>\n",
       "      <td>1150545.0</td>\n",
       "      <td>6 years</td>\n",
       "      <td>Rent</td>\n",
       "      <td>Debt Consolidation</td>\n",
       "      <td>7315.57</td>\n",
       "      <td>18.8</td>\n",
       "      <td>18.0</td>\n",
       "      <td>12</td>\n",
       "      <td>1</td>\n",
       "      <td>109554</td>\n",
       "      <td>537548.0</td>\n",
       "      <td>1.0</td>\n",
       "      <td>0.0</td>\n",
       "    </tr>\n",
       "    <tr>\n",
       "      <th>99998</th>\n",
       "      <td>81ab928b-d1a5-4523-9a3c-271ebb01b4fb</td>\n",
       "      <td>3e45ffda-99fd-4cfc-b8b8-446f4a505f36</td>\n",
       "      <td>Fully Paid</td>\n",
       "      <td>530332</td>\n",
       "      <td>Short Term</td>\n",
       "      <td>746.0</td>\n",
       "      <td>1717524.0</td>\n",
       "      <td>9 years</td>\n",
       "      <td>Rent</td>\n",
       "      <td>Debt Consolidation</td>\n",
       "      <td>9890.07</td>\n",
       "      <td>15.0</td>\n",
       "      <td>NaN</td>\n",
       "      <td>8</td>\n",
       "      <td>0</td>\n",
       "      <td>404225</td>\n",
       "      <td>738254.0</td>\n",
       "      <td>0.0</td>\n",
       "      <td>0.0</td>\n",
       "    </tr>\n",
       "    <tr>\n",
       "      <th>99999</th>\n",
       "      <td>c63916c6-6d46-47a9-949a-51d09af4414f</td>\n",
       "      <td>1b3014be-5c07-4d41-abe7-44573c375886</td>\n",
       "      <td>Fully Paid</td>\n",
       "      <td>99999999</td>\n",
       "      <td>Short Term</td>\n",
       "      <td>743.0</td>\n",
       "      <td>935180.0</td>\n",
       "      <td>NaN</td>\n",
       "      <td>Own Home</td>\n",
       "      <td>Debt Consolidation</td>\n",
       "      <td>9118.10</td>\n",
       "      <td>13.0</td>\n",
       "      <td>NaN</td>\n",
       "      <td>4</td>\n",
       "      <td>1</td>\n",
       "      <td>45600</td>\n",
       "      <td>91014.0</td>\n",
       "      <td>1.0</td>\n",
       "      <td>0.0</td>\n",
       "    </tr>\n",
       "  </tbody>\n",
       "</table>\n",
       "<p>100000 rows × 19 columns</p>\n",
       "</div>"
      ],
      "text/plain": [
       "                                    Loan ID  \\\n",
       "0      14dd8831-6af5-400b-83ec-68e61888a048   \n",
       "1      4771cc26-131a-45db-b5aa-537ea4ba5342   \n",
       "2      4eed4e6a-aa2f-4c91-8651-ce984ee8fb26   \n",
       "3      77598f7b-32e7-4e3b-a6e5-06ba0d98fe8a   \n",
       "4      d4062e70-befa-4995-8643-a0de73938182   \n",
       "...                                     ...   \n",
       "99995  3f94c18c-ba8f-45d0-8610-88a684a410a9   \n",
       "99996  06eba04f-58fc-424a-b666-ed72aa008900   \n",
       "99997  e1cb4050-eff5-4bdb-a1b0-aabd3f7eaac7   \n",
       "99998  81ab928b-d1a5-4523-9a3c-271ebb01b4fb   \n",
       "99999  c63916c6-6d46-47a9-949a-51d09af4414f   \n",
       "\n",
       "                                Customer ID Loan Status  Current Loan Amount  \\\n",
       "0      981165ec-3274-42f5-a3b4-d104041a9ca9  Fully Paid               445412   \n",
       "1      2de017a3-2e01-49cb-a581-08169e83be29  Fully Paid               262328   \n",
       "2      5efb2b2b-bf11-4dfd-a572-3761a2694725  Fully Paid             99999999   \n",
       "3      e777faab-98ae-45af-9a86-7ce5b33b1011  Fully Paid               347666   \n",
       "4      81536ad9-5ccf-4eb8-befb-47a4d608658e  Fully Paid               176220   \n",
       "...                                     ...         ...                  ...   \n",
       "99995  2da51983-cfef-4b8f-a733-5dfaf69e9281  Fully Paid               147070   \n",
       "99996  77f2252a-b7d1-4b07-a746-1202a8304290  Fully Paid             99999999   \n",
       "99997  2ced5f10-bd60-4a11-9134-cadce4e7b0a3  Fully Paid               103136   \n",
       "99998  3e45ffda-99fd-4cfc-b8b8-446f4a505f36  Fully Paid               530332   \n",
       "99999  1b3014be-5c07-4d41-abe7-44573c375886  Fully Paid             99999999   \n",
       "\n",
       "             Term  Credit Score  Annual Income Years in current job  \\\n",
       "0      Short Term         709.0      1167493.0              8 years   \n",
       "1      Short Term           NaN            NaN            10+ years   \n",
       "2      Short Term         741.0      2231892.0              8 years   \n",
       "3       Long Term         721.0       806949.0              3 years   \n",
       "4      Short Term           NaN            NaN              5 years   \n",
       "...           ...           ...            ...                  ...   \n",
       "99995  Short Term         725.0       475437.0              7 years   \n",
       "99996  Short Term         732.0      1289416.0               1 year   \n",
       "99997  Short Term         742.0      1150545.0              6 years   \n",
       "99998  Short Term         746.0      1717524.0              9 years   \n",
       "99999  Short Term         743.0       935180.0                  NaN   \n",
       "\n",
       "      Home Ownership             Purpose  Monthly Debt  \\\n",
       "0      Home Mortgage   Home Improvements       5214.74   \n",
       "1      Home Mortgage  Debt Consolidation      33295.98   \n",
       "2           Own Home  Debt Consolidation      29200.53   \n",
       "3           Own Home  Debt Consolidation       8741.90   \n",
       "4               Rent  Debt Consolidation      20639.70   \n",
       "...              ...                 ...           ...   \n",
       "99995       Own Home               other       2202.86   \n",
       "99996           Rent  Debt Consolidation      13109.05   \n",
       "99997           Rent  Debt Consolidation       7315.57   \n",
       "99998           Rent  Debt Consolidation       9890.07   \n",
       "99999       Own Home  Debt Consolidation       9118.10   \n",
       "\n",
       "       Years of Credit History  Months since last delinquent  \\\n",
       "0                         17.2                           NaN   \n",
       "1                         21.1                           8.0   \n",
       "2                         14.9                          29.0   \n",
       "3                         12.0                           NaN   \n",
       "4                          6.1                           NaN   \n",
       "...                        ...                           ...   \n",
       "99995                     22.3                           NaN   \n",
       "99996                      9.4                          21.0   \n",
       "99997                     18.8                          18.0   \n",
       "99998                     15.0                           NaN   \n",
       "99999                     13.0                           NaN   \n",
       "\n",
       "       Number of Open Accounts  Number of Credit Problems  \\\n",
       "0                            6                          1   \n",
       "1                           35                          0   \n",
       "2                           18                          1   \n",
       "3                            9                          0   \n",
       "4                           15                          0   \n",
       "...                        ...                        ...   \n",
       "99995                        5                          0   \n",
       "99996                       22                          0   \n",
       "99997                       12                          1   \n",
       "99998                        8                          0   \n",
       "99999                        4                          1   \n",
       "\n",
       "       Current Credit Balance  Maximum Open Credit  Bankruptcies  Tax Liens  \n",
       "0                      228190             416746.0           1.0        0.0  \n",
       "1                      229976             850784.0           0.0        0.0  \n",
       "2                      297996             750090.0           0.0        0.0  \n",
       "3                      256329             386958.0           0.0        0.0  \n",
       "4                      253460             427174.0           0.0        0.0  \n",
       "...                       ...                  ...           ...        ...  \n",
       "99995                   47766             658548.0           0.0        0.0  \n",
       "99996                  153045             509234.0           0.0        0.0  \n",
       "99997                  109554             537548.0           1.0        0.0  \n",
       "99998                  404225             738254.0           0.0        0.0  \n",
       "99999                   45600              91014.0           1.0        0.0  \n",
       "\n",
       "[100000 rows x 19 columns]"
      ]
     },
     "execution_count": 2,
     "metadata": {},
     "output_type": "execute_result"
    }
   ],
   "source": [
    "credit = pd.read_csv('credit_score.csv')\n",
    "credit"
   ]
  },
  {
   "cell_type": "markdown",
   "id": "307b7694",
   "metadata": {},
   "source": [
    "info() reveals several columns with missing data. Months since last delinquent has the most missing with over 50%"
   ]
  },
  {
   "cell_type": "code",
   "execution_count": 3,
   "id": "2d7a4953",
   "metadata": {
    "scrolled": true
   },
   "outputs": [
    {
     "name": "stdout",
     "output_type": "stream",
     "text": [
      "<class 'pandas.core.frame.DataFrame'>\n",
      "RangeIndex: 100000 entries, 0 to 99999\n",
      "Data columns (total 19 columns):\n",
      " #   Column                        Non-Null Count   Dtype  \n",
      "---  ------                        --------------   -----  \n",
      " 0   Loan ID                       100000 non-null  object \n",
      " 1   Customer ID                   100000 non-null  object \n",
      " 2   Loan Status                   100000 non-null  object \n",
      " 3   Current Loan Amount           100000 non-null  int64  \n",
      " 4   Term                          100000 non-null  object \n",
      " 5   Credit Score                  80846 non-null   float64\n",
      " 6   Annual Income                 80846 non-null   float64\n",
      " 7   Years in current job          95778 non-null   object \n",
      " 8   Home Ownership                99786 non-null   object \n",
      " 9   Purpose                       99790 non-null   object \n",
      " 10  Monthly Debt                  100000 non-null  float64\n",
      " 11  Years of Credit History       100000 non-null  float64\n",
      " 12  Months since last delinquent  46859 non-null   float64\n",
      " 13  Number of Open Accounts       100000 non-null  int64  \n",
      " 14  Number of Credit Problems     100000 non-null  int64  \n",
      " 15  Current Credit Balance        100000 non-null  int64  \n",
      " 16  Maximum Open Credit           99998 non-null   float64\n",
      " 17  Bankruptcies                  99796 non-null   float64\n",
      " 18  Tax Liens                     99990 non-null   float64\n",
      "dtypes: float64(8), int64(4), object(7)\n",
      "memory usage: 14.5+ MB\n"
     ]
    }
   ],
   "source": [
    "credit.info()"
   ]
  },
  {
   "cell_type": "markdown",
   "id": "f9fc8ad9",
   "metadata": {},
   "source": [
    "Furthermore, it does seem the columns are loaded into their correct data types."
   ]
  },
  {
   "cell_type": "markdown",
   "id": "a3c7f720",
   "metadata": {},
   "source": [
    "<h3> Preliminary Analysis</h3>\n",
    "\n",
    "Now, we look into the data to understand its distributions as well as potential problems that need to be addressed in processing.\n",
    "\n",
    "First, the numeric columns"
   ]
  },
  {
   "cell_type": "code",
   "execution_count": 4,
   "id": "a785b0c5",
   "metadata": {},
   "outputs": [
    {
     "data": {
      "text/html": [
       "<div>\n",
       "<style scoped>\n",
       "    .dataframe tbody tr th:only-of-type {\n",
       "        vertical-align: middle;\n",
       "    }\n",
       "\n",
       "    .dataframe tbody tr th {\n",
       "        vertical-align: top;\n",
       "    }\n",
       "\n",
       "    .dataframe thead th {\n",
       "        text-align: right;\n",
       "    }\n",
       "</style>\n",
       "<table border=\"1\" class=\"dataframe\">\n",
       "  <thead>\n",
       "    <tr style=\"text-align: right;\">\n",
       "      <th></th>\n",
       "      <th>Current Loan Amount</th>\n",
       "      <th>Credit Score</th>\n",
       "      <th>Annual Income</th>\n",
       "      <th>Monthly Debt</th>\n",
       "      <th>Years of Credit History</th>\n",
       "      <th>Months since last delinquent</th>\n",
       "      <th>Number of Open Accounts</th>\n",
       "      <th>Number of Credit Problems</th>\n",
       "      <th>Current Credit Balance</th>\n",
       "      <th>Maximum Open Credit</th>\n",
       "      <th>Bankruptcies</th>\n",
       "      <th>Tax Liens</th>\n",
       "    </tr>\n",
       "  </thead>\n",
       "  <tbody>\n",
       "    <tr>\n",
       "      <th>count</th>\n",
       "      <td>1.000000e+05</td>\n",
       "      <td>80846.000000</td>\n",
       "      <td>8.084600e+04</td>\n",
       "      <td>100000.000000</td>\n",
       "      <td>100000.000000</td>\n",
       "      <td>46859.000000</td>\n",
       "      <td>100000.00000</td>\n",
       "      <td>100000.000000</td>\n",
       "      <td>1.000000e+05</td>\n",
       "      <td>9.999800e+04</td>\n",
       "      <td>99796.000000</td>\n",
       "      <td>99990.000000</td>\n",
       "    </tr>\n",
       "    <tr>\n",
       "      <th>mean</th>\n",
       "      <td>1.176045e+07</td>\n",
       "      <td>1076.456089</td>\n",
       "      <td>1.378277e+06</td>\n",
       "      <td>18472.412336</td>\n",
       "      <td>18.199141</td>\n",
       "      <td>34.901321</td>\n",
       "      <td>11.12853</td>\n",
       "      <td>0.168310</td>\n",
       "      <td>2.946374e+05</td>\n",
       "      <td>7.607984e+05</td>\n",
       "      <td>0.117740</td>\n",
       "      <td>0.029313</td>\n",
       "    </tr>\n",
       "    <tr>\n",
       "      <th>std</th>\n",
       "      <td>3.178394e+07</td>\n",
       "      <td>1475.403791</td>\n",
       "      <td>1.081360e+06</td>\n",
       "      <td>12174.992609</td>\n",
       "      <td>7.015324</td>\n",
       "      <td>21.997829</td>\n",
       "      <td>5.00987</td>\n",
       "      <td>0.482705</td>\n",
       "      <td>3.761709e+05</td>\n",
       "      <td>8.384503e+06</td>\n",
       "      <td>0.351424</td>\n",
       "      <td>0.258182</td>\n",
       "    </tr>\n",
       "    <tr>\n",
       "      <th>min</th>\n",
       "      <td>1.080200e+04</td>\n",
       "      <td>585.000000</td>\n",
       "      <td>7.662700e+04</td>\n",
       "      <td>0.000000</td>\n",
       "      <td>3.600000</td>\n",
       "      <td>0.000000</td>\n",
       "      <td>0.00000</td>\n",
       "      <td>0.000000</td>\n",
       "      <td>0.000000e+00</td>\n",
       "      <td>0.000000e+00</td>\n",
       "      <td>0.000000</td>\n",
       "      <td>0.000000</td>\n",
       "    </tr>\n",
       "    <tr>\n",
       "      <th>25%</th>\n",
       "      <td>1.796520e+05</td>\n",
       "      <td>705.000000</td>\n",
       "      <td>8.488440e+05</td>\n",
       "      <td>10214.162500</td>\n",
       "      <td>13.500000</td>\n",
       "      <td>16.000000</td>\n",
       "      <td>8.00000</td>\n",
       "      <td>0.000000</td>\n",
       "      <td>1.126700e+05</td>\n",
       "      <td>2.734380e+05</td>\n",
       "      <td>0.000000</td>\n",
       "      <td>0.000000</td>\n",
       "    </tr>\n",
       "    <tr>\n",
       "      <th>50%</th>\n",
       "      <td>3.122460e+05</td>\n",
       "      <td>724.000000</td>\n",
       "      <td>1.174162e+06</td>\n",
       "      <td>16220.300000</td>\n",
       "      <td>16.900000</td>\n",
       "      <td>32.000000</td>\n",
       "      <td>10.00000</td>\n",
       "      <td>0.000000</td>\n",
       "      <td>2.098170e+05</td>\n",
       "      <td>4.678740e+05</td>\n",
       "      <td>0.000000</td>\n",
       "      <td>0.000000</td>\n",
       "    </tr>\n",
       "    <tr>\n",
       "      <th>75%</th>\n",
       "      <td>5.249420e+05</td>\n",
       "      <td>741.000000</td>\n",
       "      <td>1.650663e+06</td>\n",
       "      <td>24012.057500</td>\n",
       "      <td>21.700000</td>\n",
       "      <td>51.000000</td>\n",
       "      <td>14.00000</td>\n",
       "      <td>0.000000</td>\n",
       "      <td>3.679588e+05</td>\n",
       "      <td>7.829580e+05</td>\n",
       "      <td>0.000000</td>\n",
       "      <td>0.000000</td>\n",
       "    </tr>\n",
       "    <tr>\n",
       "      <th>max</th>\n",
       "      <td>1.000000e+08</td>\n",
       "      <td>7510.000000</td>\n",
       "      <td>1.655574e+08</td>\n",
       "      <td>435843.280000</td>\n",
       "      <td>70.500000</td>\n",
       "      <td>176.000000</td>\n",
       "      <td>76.00000</td>\n",
       "      <td>15.000000</td>\n",
       "      <td>3.287897e+07</td>\n",
       "      <td>1.539738e+09</td>\n",
       "      <td>7.000000</td>\n",
       "      <td>15.000000</td>\n",
       "    </tr>\n",
       "  </tbody>\n",
       "</table>\n",
       "</div>"
      ],
      "text/plain": [
       "       Current Loan Amount  Credit Score  Annual Income   Monthly Debt  \\\n",
       "count         1.000000e+05  80846.000000   8.084600e+04  100000.000000   \n",
       "mean          1.176045e+07   1076.456089   1.378277e+06   18472.412336   \n",
       "std           3.178394e+07   1475.403791   1.081360e+06   12174.992609   \n",
       "min           1.080200e+04    585.000000   7.662700e+04       0.000000   \n",
       "25%           1.796520e+05    705.000000   8.488440e+05   10214.162500   \n",
       "50%           3.122460e+05    724.000000   1.174162e+06   16220.300000   \n",
       "75%           5.249420e+05    741.000000   1.650663e+06   24012.057500   \n",
       "max           1.000000e+08   7510.000000   1.655574e+08  435843.280000   \n",
       "\n",
       "       Years of Credit History  Months since last delinquent  \\\n",
       "count            100000.000000                  46859.000000   \n",
       "mean                 18.199141                     34.901321   \n",
       "std                   7.015324                     21.997829   \n",
       "min                   3.600000                      0.000000   \n",
       "25%                  13.500000                     16.000000   \n",
       "50%                  16.900000                     32.000000   \n",
       "75%                  21.700000                     51.000000   \n",
       "max                  70.500000                    176.000000   \n",
       "\n",
       "       Number of Open Accounts  Number of Credit Problems  \\\n",
       "count             100000.00000              100000.000000   \n",
       "mean                  11.12853                   0.168310   \n",
       "std                    5.00987                   0.482705   \n",
       "min                    0.00000                   0.000000   \n",
       "25%                    8.00000                   0.000000   \n",
       "50%                   10.00000                   0.000000   \n",
       "75%                   14.00000                   0.000000   \n",
       "max                   76.00000                  15.000000   \n",
       "\n",
       "       Current Credit Balance  Maximum Open Credit  Bankruptcies     Tax Liens  \n",
       "count            1.000000e+05         9.999800e+04  99796.000000  99990.000000  \n",
       "mean             2.946374e+05         7.607984e+05      0.117740      0.029313  \n",
       "std              3.761709e+05         8.384503e+06      0.351424      0.258182  \n",
       "min              0.000000e+00         0.000000e+00      0.000000      0.000000  \n",
       "25%              1.126700e+05         2.734380e+05      0.000000      0.000000  \n",
       "50%              2.098170e+05         4.678740e+05      0.000000      0.000000  \n",
       "75%              3.679588e+05         7.829580e+05      0.000000      0.000000  \n",
       "max              3.287897e+07         1.539738e+09      7.000000     15.000000  "
      ]
     },
     "execution_count": 4,
     "metadata": {},
     "output_type": "execute_result"
    }
   ],
   "source": [
    "credit.describe()"
   ]
  },
  {
   "attachments": {
    "image.png": {
     "image/png": "[encoded data removed]"
    }
   },
   "cell_type": "markdown",
   "id": "ae0396ca",
   "metadata": {},
   "source": [
    "<h4>Histograms</h4>\n",
    "\n",
    "Histograms are commonly used to illustrate the shape of a numeric variable's distribution. The figure has the following components\n",
    "- Horizontal axis shows the range of values in the column\n",
    "- Vertical bars represent values in the column binned into groups\n",
    "- Vertical axis shows the frequency of each value bin\n",
    "\n",
    "For example, in the histogram below, the frequency of values 5-6 is about 3, values 10-11 about 21, and 17-22 all over 100\n",
    "![image.png](attachment:image.png)\n",
    "\n",
    "To plot histograms for all numeric columns in a DataFrame we can use hist(). The bins= argument set the number of bins (bars) we want in the histogram. Smaller bins provide more details but may make the distribution look jagged, while too big bins make the distribution less details."
   ]
  },
  {
   "cell_type": "code",
   "execution_count": 5,
   "id": "c61dc03c",
   "metadata": {},
   "outputs": [
    {
     "data": {
      "image/png": "[encoded data removed]",
      "text/plain": [
       "<Figure size 1440x1440 with 12 Axes>"
      ]
     },
     "metadata": {
      "needs_background": "light"
     },
     "output_type": "display_data"
    }
   ],
   "source": [
    "import matplotlib.pyplot as plt\n",
    "\n",
    "credit.hist(bins=50, figsize=(20,20))\n",
    "plt.show()"
   ]
  },
  {
   "cell_type": "markdown",
   "id": "6ec7b1cf",
   "metadata": {},
   "source": [
    "Let's have a closer look on columns with issues.\n",
    "\n",
    "<h4>Current Loan Amount</h4>\n",
    "\n",
    "The majority of loans have current amount around 10,000, however, some of them are at 10^8. We can look more into this. I will first extract the column to a new variable for convenience purpose."
   ]
  },
  {
   "cell_type": "code",
   "execution_count": null,
   "id": "ca33388b",
   "metadata": {},
   "outputs": [],
   "source": [
    "cla = credit['Current Loan Amount']"
   ]
  },
  {
   "cell_type": "code",
   "execution_count": 60,
   "id": "83d94bd1",
   "metadata": {},
   "outputs": [
    {
     "data": {
      "image/png": "[encoded data removed]",
      "text/plain": [
       "<Figure size 432x288 with 1 Axes>"
      ]
     },
     "metadata": {
      "needs_background": "light"
     },
     "output_type": "display_data"
    }
   ],
   "source": [
    "plt.hist(cla, bins=50)\n",
    "plt.show()"
   ]
  },
  {
   "cell_type": "code",
   "execution_count": 6,
   "id": "59623eb5",
   "metadata": {},
   "outputs": [
    {
     "data": {
      "image/png": "[encoded data removed]",
      "text/plain": [
       "<Figure size 432x288 with 1 Axes>"
      ]
     },
     "metadata": {
      "needs_background": "light"
     },
     "output_type": "display_data"
    }
   ],
   "source": [
    "plt.hist(cla[cla<90000000], bins=50)\n",
    "plt.show()"
   ]
  },
  {
   "cell_type": "code",
   "execution_count": 61,
   "id": "fab682b7",
   "metadata": {},
   "outputs": [
    {
     "data": {
      "image/png": "[encoded data removed]",
      "text/plain": [
       "<Figure size 432x288 with 1 Axes>"
      ]
     },
     "metadata": {
      "needs_background": "light"
     },
     "output_type": "display_data"
    }
   ],
   "source": [
    "plt.hist(cla[cla>90000000], bins=50)\n",
    "plt.show()"
   ]
  },
  {
   "cell_type": "markdown",
   "id": "ad9a651e",
   "metadata": {},
   "source": [
    "It turns out all these values are 99999999"
   ]
  },
  {
   "cell_type": "code",
   "execution_count": 7,
   "id": "26344b27",
   "metadata": {},
   "outputs": [
    {
     "data": {
      "text/plain": [
       "2        99999999\n",
       "10       99999999\n",
       "12       99999999\n",
       "13       99999999\n",
       "26       99999999\n",
       "           ...   \n",
       "99970    99999999\n",
       "99971    99999999\n",
       "99990    99999999\n",
       "99996    99999999\n",
       "99999    99999999\n",
       "Name: Current Loan Amount, Length: 11484, dtype: int64"
      ]
     },
     "execution_count": 7,
     "metadata": {},
     "output_type": "execute_result"
    }
   ],
   "source": [
    "cla[cla > 90000000]"
   ]
  },
  {
   "cell_type": "markdown",
   "id": "0b408b55",
   "metadata": {},
   "source": [
    "Furthermore, any current loan amount of 999999999 means the loan is fully paid"
   ]
  },
  {
   "cell_type": "code",
   "execution_count": 8,
   "id": "fe3d3301",
   "metadata": {},
   "outputs": [
    {
     "data": {
      "text/plain": [
       "Fully Paid    11484\n",
       "Name: Loan Status, dtype: int64"
      ]
     },
     "execution_count": 8,
     "metadata": {},
     "output_type": "execute_result"
    }
   ],
   "source": [
    "credit['Loan Status'][cla > 90000000].value_counts()"
   ]
  },
  {
   "cell_type": "markdown",
   "id": "cf3aabd2",
   "metadata": {},
   "source": [
    "This is an indicator that the 99999999 values are <b>coded</b>, i.e., they are not actual numbers but codes that refer to special values. In this example, it is likely that these values represent fully paid loans, which means we can replace them with current loan amounts of 0. "
   ]
  },
  {
   "cell_type": "markdown",
   "id": "ff871188",
   "metadata": {},
   "source": [
    "<h4>Credit Score</h4>\n",
    "\n",
    "The distribution looks a bit odd with some data having credit scores around 6500 to 7500."
   ]
  },
  {
   "cell_type": "code",
   "execution_count": 9,
   "id": "c526ade8",
   "metadata": {},
   "outputs": [
    {
     "data": {
      "image/png": "[encoded data removed]",
      "text/plain": [
       "<Figure size 432x288 with 1 Axes>"
      ]
     },
     "metadata": {
      "needs_background": "light"
     },
     "output_type": "display_data"
    }
   ],
   "source": [
    "cs = credit['Credit Score']\n",
    "plt.hist(cs, bins=100)\n",
    "plt.show()"
   ]
  },
  {
   "cell_type": "code",
   "execution_count": 10,
   "id": "36ce0a7e",
   "metadata": {},
   "outputs": [
    {
     "data": {
      "image/png": "[encoded data removed]",
      "text/plain": [
       "<Figure size 432x288 with 1 Axes>"
      ]
     },
     "metadata": {
      "needs_background": "light"
     },
     "output_type": "display_data"
    }
   ],
   "source": [
    "plt.hist(cs[cs<1000], bins=50)\n",
    "plt.show()"
   ]
  },
  {
   "cell_type": "code",
   "execution_count": 11,
   "id": "3d818ba8",
   "metadata": {},
   "outputs": [
    {
     "data": {
      "image/png": "[encoded data removed]",
      "text/plain": [
       "<Figure size 432x288 with 1 Axes>"
      ]
     },
     "metadata": {
      "needs_background": "light"
     },
     "output_type": "display_data"
    }
   ],
   "source": [
    "plt.hist(cs[cs>1000], bins=50)\n",
    "plt.show()"
   ]
  },
  {
   "cell_type": "markdown",
   "id": "57e5e576",
   "metadata": {},
   "source": [
    "Credit scores range between 300 and 850. So customers with credit score over 6000 are not normal. Furthermore, the distributions of the scores from 500 to 750 look very similar to that of 5000 to 7500. Therefore, we can conclude that for some reasons, the customers with scores over 5000 get their scores multiplied by 10, and we can fix that in preprocessing."
   ]
  },
  {
   "cell_type": "markdown",
   "id": "dcdc1c76",
   "metadata": {},
   "source": [
    "<h4>Annual Income</h4>\n",
    "\n",
    "This column as a very <b>right skewed</b> distribution, which usually see in incomes -- the majority of customers earn below 1 million per year, and a few earns higher (up to 15 millions in this data)."
   ]
  },
  {
   "cell_type": "code",
   "execution_count": 12,
   "id": "4a990840",
   "metadata": {},
   "outputs": [],
   "source": [
    "ai = credit['Annual Income']"
   ]
  },
  {
   "cell_type": "code",
   "execution_count": 13,
   "id": "4c99e15e",
   "metadata": {},
   "outputs": [
    {
     "data": {
      "image/png": "[encoded data removed]",
      "text/plain": [
       "<Figure size 432x288 with 1 Axes>"
      ]
     },
     "metadata": {
      "needs_background": "light"
     },
     "output_type": "display_data"
    }
   ],
   "source": [
    "plt.hist(ai, bins=50)\n",
    "plt.show()"
   ]
  },
  {
   "cell_type": "code",
   "execution_count": 14,
   "id": "5917591c",
   "metadata": {
    "scrolled": true
   },
   "outputs": [
    {
     "data": {
      "image/png": "[encoded data removed]",
      "text/plain": [
       "<Figure size 432x288 with 1 Axes>"
      ]
     },
     "metadata": {
      "needs_background": "light"
     },
     "output_type": "display_data"
    }
   ],
   "source": [
    "plt.hist(ai[ai < 10000000], bins=50)\n",
    "plt.show()"
   ]
  },
  {
   "cell_type": "code",
   "execution_count": 15,
   "id": "3abce3b1",
   "metadata": {},
   "outputs": [
    {
     "data": {
      "text/plain": [
       "10721    30838995.0\n",
       "11522    14438100.0\n",
       "11830    12574770.0\n",
       "12617    14287050.0\n",
       "13643    14118007.0\n",
       "            ...    \n",
       "96842    13591270.0\n",
       "97144    12886579.0\n",
       "97964    11463840.0\n",
       "98823    11443320.0\n",
       "99452    10149344.0\n",
       "Name: Annual Income, Length: 68, dtype: float64"
      ]
     },
     "execution_count": 15,
     "metadata": {},
     "output_type": "execute_result"
    }
   ],
   "source": [
    "ai[ai > 10000000]"
   ]
  },
  {
   "cell_type": "markdown",
   "id": "ab306e60",
   "metadata": {},
   "source": [
    "A closer look reveals 68 customers get very high incomes. We may leave this column as is, or may create a log version so it looks more balance."
   ]
  },
  {
   "cell_type": "code",
   "execution_count": 62,
   "id": "c9feb9ff",
   "metadata": {},
   "outputs": [
    {
     "data": {
      "image/png": "[encoded data removed]",
      "text/plain": [
       "<Figure size 432x288 with 1 Axes>"
      ]
     },
     "metadata": {
      "needs_background": "light"
     },
     "output_type": "display_data"
    }
   ],
   "source": [
    "plt.hist(np.log(ai), bins=50)\n",
    "plt.show()"
   ]
  },
  {
   "cell_type": "markdown",
   "id": "1fe34cc2",
   "metadata": {},
   "source": [
    "<h4>Months since last delinquent</h4>"
   ]
  },
  {
   "cell_type": "code",
   "execution_count": 16,
   "id": "ef130898",
   "metadata": {},
   "outputs": [],
   "source": [
    "mld = credit['Months since last delinquent']"
   ]
  },
  {
   "cell_type": "code",
   "execution_count": 17,
   "id": "8e8d5658",
   "metadata": {},
   "outputs": [
    {
     "data": {
      "image/png": "[encoded data removed]",
      "text/plain": [
       "<Figure size 432x288 with 1 Axes>"
      ]
     },
     "metadata": {
      "needs_background": "light"
     },
     "output_type": "display_data"
    }
   ],
   "source": [
    "plt.hist(mld, bins=30)\n",
    "plt.show()"
   ]
  },
  {
   "cell_type": "code",
   "execution_count": 18,
   "id": "b476602b",
   "metadata": {},
   "outputs": [
    {
     "data": {
      "text/plain": [
       "53141"
      ]
     },
     "execution_count": 18,
     "metadata": {},
     "output_type": "execute_result"
    }
   ],
   "source": [
    "mld.isna().sum()"
   ]
  },
  {
   "cell_type": "markdown",
   "id": "b58a79ca",
   "metadata": {},
   "source": [
    "In terms of distribution, this column looks okay. However, the issue is with the 53141 customers with missing values. Based on the meaning of the column - months since last delinquent - missing values here are not actually missing. They are simply customers who have never had any delinquent. \n",
    "\n",
    "As a low values of mld means the customer has recently got a delinquent and is in contrast with those who never had any, we can fill these missing values with a very high number, for example, the maximum value of mld. We can also generate a binary indicator column -- whether the customer has ever had a delinquent, for the models to better learn."
   ]
  },
  {
   "cell_type": "markdown",
   "id": "61441bba",
   "metadata": {},
   "source": [
    "<h4>Current Credit Balance</h4>"
   ]
  },
  {
   "cell_type": "code",
   "execution_count": 19,
   "id": "b5d7bf79",
   "metadata": {},
   "outputs": [],
   "source": [
    "ccb = credit['Current Credit Balance']"
   ]
  },
  {
   "cell_type": "code",
   "execution_count": 20,
   "id": "e4cc0e89",
   "metadata": {},
   "outputs": [
    {
     "data": {
      "image/png": "[encoded data removed]",
      "text/plain": [
       "<Figure size 432x288 with 1 Axes>"
      ]
     },
     "metadata": {
      "needs_background": "light"
     },
     "output_type": "display_data"
    }
   ],
   "source": [
    "plt.hist(ccb, bins=50)\n",
    "plt.show()"
   ]
  },
  {
   "cell_type": "code",
   "execution_count": 21,
   "id": "d7b6eac8",
   "metadata": {},
   "outputs": [
    {
     "data": {
      "image/png": "[encoded data removed]",
      "text/plain": [
       "<Figure size 432x288 with 1 Axes>"
      ]
     },
     "metadata": {
      "needs_background": "light"
     },
     "output_type": "display_data"
    }
   ],
   "source": [
    "plt.hist(ccb[ccb < 5000000], bins=50)\n",
    "plt.show()"
   ]
  },
  {
   "cell_type": "code",
   "execution_count": 22,
   "id": "1b9bb746",
   "metadata": {},
   "outputs": [
    {
     "data": {
      "text/plain": [
       "63        5246261\n",
       "3724      5742902\n",
       "3854      7423870\n",
       "3896      5176018\n",
       "5369      5221295\n",
       "           ...   \n",
       "95805     6812773\n",
       "96221    11796435\n",
       "98104     6737818\n",
       "99527     5032074\n",
       "99721     7140732\n",
       "Name: Current Credit Balance, Length: 74, dtype: int64"
      ]
     },
     "execution_count": 22,
     "metadata": {},
     "output_type": "execute_result"
    }
   ],
   "source": [
    "ccb[ccb > 5000000]"
   ]
  },
  {
   "cell_type": "markdown",
   "id": "d262faa6",
   "metadata": {},
   "source": [
    "Fairly similar to annual income with a very right skewed distribution. We can leave this column as is, or add a log version."
   ]
  },
  {
   "cell_type": "markdown",
   "id": "b1b88977",
   "metadata": {},
   "source": [
    "<h4>Maximum Open Credit</h4>"
   ]
  },
  {
   "cell_type": "code",
   "execution_count": 23,
   "id": "9aa59c74",
   "metadata": {},
   "outputs": [],
   "source": [
    "moc = credit['Maximum Open Credit']"
   ]
  },
  {
   "cell_type": "code",
   "execution_count": 24,
   "id": "5ffe2a76",
   "metadata": {},
   "outputs": [
    {
     "data": {
      "image/png": "[encoded data removed]",
      "text/plain": [
       "<Figure size 432x288 with 1 Axes>"
      ]
     },
     "metadata": {
      "needs_background": "light"
     },
     "output_type": "display_data"
    }
   ],
   "source": [
    "plt.hist(moc, bins=50)\n",
    "plt.show()"
   ]
  },
  {
   "cell_type": "code",
   "execution_count": 25,
   "id": "595439a6",
   "metadata": {},
   "outputs": [
    {
     "data": {
      "image/png": "[encoded data removed]",
      "text/plain": [
       "<Figure size 432x288 with 1 Axes>"
      ]
     },
     "metadata": {
      "needs_background": "light"
     },
     "output_type": "display_data"
    }
   ],
   "source": [
    "plt.hist(moc[moc < 10000000], bins=50)\n",
    "plt.show()"
   ]
  },
  {
   "cell_type": "code",
   "execution_count": 26,
   "id": "b00d48d7",
   "metadata": {},
   "outputs": [
    {
     "data": {
      "text/plain": [
       "63        11887678.0\n",
       "378       10189234.0\n",
       "594      145907344.0\n",
       "1899      71309216.0\n",
       "1920      14822676.0\n",
       "            ...     \n",
       "97653     12942688.0\n",
       "98836     37879380.0\n",
       "99670     30563280.0\n",
       "99721    192284158.0\n",
       "99964     24091892.0\n",
       "Name: Maximum Open Credit, Length: 248, dtype: float64"
      ]
     },
     "execution_count": 26,
     "metadata": {},
     "output_type": "execute_result"
    }
   ],
   "source": [
    "moc[moc > 10000000]"
   ]
  },
  {
   "cell_type": "markdown",
   "id": "10afda69",
   "metadata": {},
   "source": [
    "Fairly similar to annual income with a very right skewed distribution. We can leave this column as is, or add a log version.\n",
    "\n",
    "The next three columns also have a right skewed distribution, but they are different in that these are count values. We can see the majority of customers have these three values either 0 or 1, and very few gets 2 or above. We can also leave these columns as they are, and create a binary indicator - whether the customers have had credit problems, bankruptcies, and tax liens."
   ]
  },
  {
   "cell_type": "markdown",
   "id": "b390b1d4",
   "metadata": {},
   "source": [
    "<h4>Number of Credit Problems</h4>"
   ]
  },
  {
   "cell_type": "code",
   "execution_count": 27,
   "id": "890ad2ea",
   "metadata": {},
   "outputs": [
    {
     "data": {
      "text/plain": [
       "0     86035\n",
       "1     12077\n",
       "2      1299\n",
       "3       378\n",
       "4       125\n",
       "5        49\n",
       "6        17\n",
       "7         8\n",
       "8         4\n",
       "11        2\n",
       "10        2\n",
       "9         2\n",
       "15        1\n",
       "12        1\n",
       "Name: Number of Credit Problems, dtype: int64"
      ]
     },
     "execution_count": 27,
     "metadata": {},
     "output_type": "execute_result"
    }
   ],
   "source": [
    "credit['Number of Credit Problems'].value_counts()"
   ]
  },
  {
   "cell_type": "markdown",
   "id": "32d2babe",
   "metadata": {},
   "source": [
    "<h4>Bankruptcies</h4>"
   ]
  },
  {
   "cell_type": "code",
   "execution_count": 28,
   "id": "57f8334d",
   "metadata": {},
   "outputs": [
    {
     "data": {
      "text/plain": [
       "0.0    88774\n",
       "1.0    10475\n",
       "2.0      417\n",
       "3.0       93\n",
       "4.0       27\n",
       "5.0        7\n",
       "6.0        2\n",
       "7.0        1\n",
       "Name: Bankruptcies, dtype: int64"
      ]
     },
     "execution_count": 28,
     "metadata": {},
     "output_type": "execute_result"
    }
   ],
   "source": [
    "credit['Bankruptcies'].value_counts()"
   ]
  },
  {
   "cell_type": "markdown",
   "id": "8673b8a1",
   "metadata": {},
   "source": [
    "<h4>Tax Liens</h4>"
   ]
  },
  {
   "cell_type": "code",
   "execution_count": 29,
   "id": "08aad548",
   "metadata": {},
   "outputs": [
    {
     "data": {
      "text/plain": [
       "0.0     98062\n",
       "1.0      1343\n",
       "2.0       374\n",
       "3.0       111\n",
       "4.0        58\n",
       "5.0        16\n",
       "6.0        12\n",
       "7.0         7\n",
       "9.0         3\n",
       "11.0        2\n",
       "15.0        1\n",
       "10.0        1\n",
       "Name: Tax Liens, dtype: int64"
      ]
     },
     "execution_count": 29,
     "metadata": {},
     "output_type": "execute_result"
    }
   ],
   "source": [
    "credit['Tax Liens'].value_counts()"
   ]
  },
  {
   "cell_type": "markdown",
   "id": "1a85e6c5",
   "metadata": {},
   "source": [
    "<h4>Categorical Columns</h4>\n",
    "\n",
    "Categorical columns in this data are fairly clean. Besides some missing values, we do not see other issues."
   ]
  },
  {
   "cell_type": "code",
   "execution_count": 30,
   "id": "076327b0",
   "metadata": {},
   "outputs": [
    {
     "name": "stdout",
     "output_type": "stream",
     "text": [
      "Loan Status\n",
      "Fully Paid     77361\n",
      "Charged Off    22639\n",
      "Name: Loan Status, dtype: int64\n",
      "\n",
      "Term\n",
      "Short Term    72208\n",
      "Long Term     27792\n",
      "Name: Term, dtype: int64\n",
      "\n",
      "Years in current job\n",
      "10+ years    31121\n",
      "2 years       9134\n",
      "3 years       8169\n",
      "< 1 year      8164\n",
      "5 years       6787\n",
      "1 year        6460\n",
      "4 years       6143\n",
      "6 years       5686\n",
      "7 years       5577\n",
      "8 years       4582\n",
      "9 years       3955\n",
      "Name: Years in current job, dtype: int64\n",
      "\n",
      "Home Ownership\n",
      "Home Mortgage    48410\n",
      "Rent             42194\n",
      "Own Home          9182\n",
      "Name: Home Ownership, dtype: int64\n",
      "\n",
      "Purpose\n",
      "Debt Consolidation    78552\n",
      "other                  6037\n",
      "Home Improvements      5839\n",
      "Other                  3250\n",
      "Business Loan          1569\n",
      "Buy a Car              1265\n",
      "Medical Bills          1127\n",
      "Buy House               678\n",
      "Take a Trip             573\n",
      "major_purchase          352\n",
      "small_business          283\n",
      "moving                  150\n",
      "wedding                 115\n",
      "Name: Purpose, dtype: int64\n",
      "\n"
     ]
    }
   ],
   "source": [
    "cat_cols = ['Loan Status', 'Term','Years in current job', 'Home Ownership', 'Purpose']\n",
    "\n",
    "for col in cat_cols:\n",
    "    print(col)\n",
    "    print(credit[col].value_counts())\n",
    "    print()"
   ]
  },
  {
   "attachments": {
    "overfitting.PNG": {
     "image/png": "[encoded data removed]"
    }
   },
   "cell_type": "markdown",
   "id": "52e72611",
   "metadata": {},
   "source": [
    "<h2>Data Preprocessing</h2>\n",
    "\n",
    "<h3> The Overfitting Problem and Train/Test Splitting</h3>\n",
    "\n",
    "A machine learning model is <b>trained</b> from data to solve a given task \n",
    "- A very common problem in machine learning and data analytics is that a model can be trained \"too much\" on a dataset and adapt poorly to new data. This is problem is referred to as the <b>overfitting</b> problem. Formally, it means that a model works very well in the data on which it was trained, but performs <b>much worse</b> on newly given data. \n",
    "\n",
    "For example, assume we are trying to predict a numeric Target using a numeric Feature, and come up with two models as below. - - The dots are data instances\n",
    "- To the right side of the dash line is the <b>training data</b> - data on which we train the model \n",
    "- To the left side of the dash line is new data \n",
    "- The curves represent predictions made by each model\n",
    "\n",
    "Which model do you prefer?\n",
    "\n",
    "![overfitting.PNG](attachment:overfitting.PNG)\n",
    "\n",
    "- Model 1 certainly makes very accurate prediction in the training data, however very poorly in the new data. \n",
    "- Model 2 performs well enough in both training and new data. \n",
    "\n",
    "In this case, model 1 is overfitting the training data, and model 2 is better to use (because we always want good performances in new data).\n",
    "\n",
    "To avoid overfitting, we need to measure how models are performing in its training data and in new data. \n",
    "- Because we usually cannot get new data during analysis, we split data into at least two sets which are called <b>training data</b> and <b>testing data</b>\n",
    "    - Training data is used to train our models\n",
    "    - Testing data acts as new data coming in, is used to test models' performances on data they have <b>never seen before</b>.\n",
    "    \n",
    "Note that the <b>never seen before</b> criterion is highly important. All of your analysis <b>must</b> be done in the training data (from preprocessing, preliminary analysis, to model selection, finetuning...). Testing data is <b>only used</b> at <b>the end</b> where all models have been finalized to compare their performances on new data.\n",
    "\n",
    "<h4> Splitting Data with SKLearn </h4>\n",
    "\n",
    "SKLearn provides several methods for us to split data into training and testing sets\n",
    "\n",
    "<h5> Random Split </h5>\n",
    "\n",
    "Data instances are randomly selected and put into the training set and testing set. You can choose the ratio of training/testing like 50:50, 75:25, 80:20... If the data is big enough, you can choose 50:50, otherwise, 75:25 or 80:20, because we still want to have as much training data as possible.\n",
    "\n",
    "In SKLearn, we use <b>sklearn.model_selection.train_test_split()</b>\n",
    "\n",
    "First, as usual, we split the features and the label"
   ]
  },
  {
   "cell_type": "code",
   "execution_count": 31,
   "id": "e28b4a88",
   "metadata": {},
   "outputs": [],
   "source": [
    "X = credit.drop(['Loan ID','Customer ID','Loan Status'], axis=1)\n",
    "y = credit['Loan Status']"
   ]
  },
  {
   "cell_type": "code",
   "execution_count": 32,
   "id": "fa50aeb7",
   "metadata": {},
   "outputs": [
    {
     "data": {
      "text/plain": [
       "((75000, 16), (25000, 16), (75000,), (25000,))"
      ]
     },
     "execution_count": 32,
     "metadata": {},
     "output_type": "execute_result"
    }
   ],
   "source": [
    "from sklearn.model_selection import train_test_split\n",
    "\n",
    "trainX, testX, trainY, testY = train_test_split(X, y, test_size=0.25)\n",
    "\n",
    "trainX.shape, testX.shape, trainY.shape, testY.shape"
   ]
  },
  {
   "cell_type": "code",
   "execution_count": 33,
   "id": "fb3310c5",
   "metadata": {},
   "outputs": [
    {
     "data": {
      "text/plain": [
       "0.7726133333333334"
      ]
     },
     "execution_count": 33,
     "metadata": {},
     "output_type": "execute_result"
    }
   ],
   "source": [
    "(trainY == 'Fully Paid').mean()"
   ]
  },
  {
   "cell_type": "code",
   "execution_count": 34,
   "id": "12452e11",
   "metadata": {},
   "outputs": [
    {
     "data": {
      "text/plain": [
       "0.7766"
      ]
     },
     "execution_count": 34,
     "metadata": {},
     "output_type": "execute_result"
    }
   ],
   "source": [
    "(testY == 'Fully Paid').mean()"
   ]
  },
  {
   "cell_type": "markdown",
   "id": "5c1956f8",
   "metadata": {},
   "source": [
    "<h5>Stratified Split</h5>\n",
    "\n",
    "We can select a column to stratify the split to reserve the distribution of said column"
   ]
  },
  {
   "cell_type": "code",
   "execution_count": 35,
   "id": "33cad02a",
   "metadata": {},
   "outputs": [
    {
     "data": {
      "text/plain": [
       "((75000, 16), (25000, 16), (75000,), (25000,))"
      ]
     },
     "execution_count": 35,
     "metadata": {},
     "output_type": "execute_result"
    }
   ],
   "source": [
    "trainX, testX, trainY, testY = train_test_split(X, y, test_size=0.25, stratify=y)\n",
    "\n",
    "trainX.shape, testX.shape, trainY.shape, testY.shape"
   ]
  },
  {
   "cell_type": "code",
   "execution_count": 36,
   "id": "3f85b906",
   "metadata": {},
   "outputs": [
    {
     "data": {
      "text/plain": [
       "0.7736133333333334"
      ]
     },
     "execution_count": 36,
     "metadata": {},
     "output_type": "execute_result"
    }
   ],
   "source": [
    "(trainY == 'Fully Paid').mean()"
   ]
  },
  {
   "cell_type": "code",
   "execution_count": 37,
   "id": "a3b0de65",
   "metadata": {},
   "outputs": [
    {
     "data": {
      "text/plain": [
       "0.7736"
      ]
     },
     "execution_count": 37,
     "metadata": {},
     "output_type": "execute_result"
    }
   ],
   "source": [
    "(testY == 'Fully Paid').mean()"
   ]
  },
  {
   "cell_type": "markdown",
   "id": "d2c45936",
   "metadata": {},
   "source": [
    "<h3>Transforming Existing Columns </h3>\n",
    "\n",
    "This part is very particular for this specific dataset. Please do not try to apply this to a different one without checking what you need to do first."
   ]
  },
  {
   "cell_type": "code",
   "execution_count": 38,
   "id": "92f4e581",
   "metadata": {},
   "outputs": [],
   "source": [
    "from sklearn.preprocessing import FunctionTransformer"
   ]
  },
  {
   "cell_type": "code",
   "execution_count": 39,
   "id": "6bf27fb5",
   "metadata": {},
   "outputs": [],
   "source": [
    "def fix_columns(X_in):\n",
    "    X = X_in.copy()\n",
    "    X.loc[X['Current Loan Amount'] == 99999999, 'Current Loan Amount'] = 0\n",
    "    X.loc[X['Credit Score'] > 1000, 'Credit Score'] /= 10\n",
    "    X.loc[X['Bankruptcies'] > 1, 'Bankruptcies'] = 1\n",
    "    X.loc[X['Tax Liens'] > 1, 'Tax Liens'] = 1\n",
    "    X.loc[X['Number of Credit Problems'] > 1, 'Number of Credit Problems'] = 1\n",
    "    X.loc[X['Months since last delinquent'].isna(), 'Months since last delinquent'] = 200\n",
    "    log_cols = ['Current Loan Amount', 'Credit Score', 'Annual Income', 'Monthly Debt', \n",
    "                'Years of Credit History', 'Months since last delinquent', 'Number of Open Accounts',\n",
    "                'Current Credit Balance', 'Maximum Open Credit']\n",
    "    for col in log_cols:\n",
    "        X['Log ' + col] = np.log(X[col] + 1)\n",
    "    return X"
   ]
  },
  {
   "cell_type": "code",
   "execution_count": 40,
   "id": "49dfc69c",
   "metadata": {
    "scrolled": true
   },
   "outputs": [],
   "source": [
    "trainX_transformed = FunctionTransformer(fix_columns).fit_transform(trainX)"
   ]
  },
  {
   "cell_type": "code",
   "execution_count": 41,
   "id": "950400f2",
   "metadata": {},
   "outputs": [
    {
     "data": {
      "image/png": "[encoded data removed]",
      "text/plain": [
       "<Figure size 1440x1440 with 25 Axes>"
      ]
     },
     "metadata": {
      "needs_background": "light"
     },
     "output_type": "display_data"
    }
   ],
   "source": [
    "trainX_transformed.hist(bins=50, figsize=(20,20))\n",
    "plt.show()"
   ]
  },
  {
   "cell_type": "markdown",
   "id": "4d1498c2",
   "metadata": {},
   "source": [
    "<h3>Standardizing Numeric Columns</h3>\n",
    "\n",
    "As discussed, some models deal with large differences in ranges of values of attributes poorly. We usually want all numeric attributes to have similar ranges. A of doing this is <b>standardization</b>. In standardization, we transform the values in the column so that they has mean of 0 and standard deviation of 1\n",
    "\n",
    "In SKLearn, we can use <b>sklearn.preprocessing.StandardScaler</b>. The <b>fit_transform()</b> function will do everything in one step. \n",
    "\n",
    "One thing to note is, StandardScaler cannot work on class attributes, and will report errors if your give it a DataFrame that has class attributes. We need to filter out such columns, which can be done with <b>DataFrame.select_dtypes('number')</b>"
   ]
  },
  {
   "cell_type": "code",
   "execution_count": 42,
   "id": "3102f1c7",
   "metadata": {},
   "outputs": [],
   "source": [
    "from sklearn.preprocessing import StandardScaler\n",
    "\n",
    "trainX_stdz = StandardScaler().fit_transform(trainX_transformed.select_dtypes('number'))"
   ]
  },
  {
   "cell_type": "markdown",
   "id": "a42d4d7a",
   "metadata": {},
   "source": [
    "Another thing to note is that the normalized version of the DataFrame is no longer a DataFrame but a numpy array. This doesn't matter much, we want data as numpy arrays when modeling anyway. It just means we won't be able to use functions of DataFrame any more. We can temporary convert the standardized data back to DataFrame to use describe(). As you can see, now all attributes have more similar ranges of values"
   ]
  },
  {
   "cell_type": "code",
   "execution_count": 43,
   "id": "9b08c4fb",
   "metadata": {},
   "outputs": [
    {
     "data": {
      "text/html": [
       "<div>\n",
       "<style scoped>\n",
       "    .dataframe tbody tr th:only-of-type {\n",
       "        vertical-align: middle;\n",
       "    }\n",
       "\n",
       "    .dataframe tbody tr th {\n",
       "        vertical-align: top;\n",
       "    }\n",
       "\n",
       "    .dataframe thead th {\n",
       "        text-align: right;\n",
       "    }\n",
       "</style>\n",
       "<table border=\"1\" class=\"dataframe\">\n",
       "  <thead>\n",
       "    <tr style=\"text-align: right;\">\n",
       "      <th></th>\n",
       "      <th>Current Loan Amount</th>\n",
       "      <th>Credit Score</th>\n",
       "      <th>Annual Income</th>\n",
       "      <th>Monthly Debt</th>\n",
       "      <th>Years of Credit History</th>\n",
       "      <th>Months since last delinquent</th>\n",
       "      <th>Number of Open Accounts</th>\n",
       "      <th>Number of Credit Problems</th>\n",
       "      <th>Current Credit Balance</th>\n",
       "      <th>Maximum Open Credit</th>\n",
       "      <th>...</th>\n",
       "      <th>Tax Liens</th>\n",
       "      <th>Log Current Loan Amount</th>\n",
       "      <th>Log Credit Score</th>\n",
       "      <th>Log Annual Income</th>\n",
       "      <th>Log Monthly Debt</th>\n",
       "      <th>Log Years of Credit History</th>\n",
       "      <th>Log Months since last delinquent</th>\n",
       "      <th>Log Number of Open Accounts</th>\n",
       "      <th>Log Current Credit Balance</th>\n",
       "      <th>Log Maximum Open Credit</th>\n",
       "    </tr>\n",
       "  </thead>\n",
       "  <tbody>\n",
       "    <tr>\n",
       "      <th>count</th>\n",
       "      <td>75000.000000</td>\n",
       "      <td>60698.000000</td>\n",
       "      <td>6.069800e+04</td>\n",
       "      <td>75000.000000</td>\n",
       "      <td>75000.000000</td>\n",
       "      <td>75000.000000</td>\n",
       "      <td>75000.000000</td>\n",
       "      <td>75000.000000</td>\n",
       "      <td>7.500000e+04</td>\n",
       "      <td>7.499900e+04</td>\n",
       "      <td>...</td>\n",
       "      <td>74992.000000</td>\n",
       "      <td>75000.000000</td>\n",
       "      <td>60698.000000</td>\n",
       "      <td>60698.000000</td>\n",
       "      <td>75000.000000</td>\n",
       "      <td>75000.000000</td>\n",
       "      <td>75000.000000</td>\n",
       "      <td>75000.000000</td>\n",
       "      <td>75000.000000</td>\n",
       "      <td>74999.000000</td>\n",
       "    </tr>\n",
       "    <tr>\n",
       "      <th>mean</th>\n",
       "      <td>276323.636453</td>\n",
       "      <td>716.335365</td>\n",
       "      <td>1.376275e+06</td>\n",
       "      <td>18484.746977</td>\n",
       "      <td>18.206561</td>\n",
       "      <td>122.752133</td>\n",
       "      <td>11.118653</td>\n",
       "      <td>0.139747</td>\n",
       "      <td>2.958234e+05</td>\n",
       "      <td>7.483686e+05</td>\n",
       "      <td>...</td>\n",
       "      <td>0.019042</td>\n",
       "      <td>11.011699</td>\n",
       "      <td>6.574736</td>\n",
       "      <td>13.990679</td>\n",
       "      <td>9.589561</td>\n",
       "      <td>2.891894</td>\n",
       "      <td>4.377705</td>\n",
       "      <td>2.412452</td>\n",
       "      <td>12.097111</td>\n",
       "      <td>12.955404</td>\n",
       "    </tr>\n",
       "    <tr>\n",
       "      <th>std</th>\n",
       "      <td>201479.986949</td>\n",
       "      <td>28.282765</td>\n",
       "      <td>9.173650e+05</td>\n",
       "      <td>12214.596417</td>\n",
       "      <td>7.020809</td>\n",
       "      <td>83.715839</td>\n",
       "      <td>5.014911</td>\n",
       "      <td>0.346726</td>\n",
       "      <td>3.846981e+05</td>\n",
       "      <td>7.842222e+06</td>\n",
       "      <td>...</td>\n",
       "      <td>0.136674</td>\n",
       "      <td>4.028724</td>\n",
       "      <td>0.040600</td>\n",
       "      <td>0.523446</td>\n",
       "      <td>0.794590</td>\n",
       "      <td>0.357165</td>\n",
       "      <td>1.132837</td>\n",
       "      <td>0.410870</td>\n",
       "      <td>1.373678</td>\n",
       "      <td>1.359872</td>\n",
       "    </tr>\n",
       "    <tr>\n",
       "      <th>min</th>\n",
       "      <td>0.000000</td>\n",
       "      <td>585.000000</td>\n",
       "      <td>7.662700e+04</td>\n",
       "      <td>0.000000</td>\n",
       "      <td>3.700000</td>\n",
       "      <td>0.000000</td>\n",
       "      <td>0.000000</td>\n",
       "      <td>0.000000</td>\n",
       "      <td>0.000000e+00</td>\n",
       "      <td>0.000000e+00</td>\n",
       "      <td>...</td>\n",
       "      <td>0.000000</td>\n",
       "      <td>0.000000</td>\n",
       "      <td>6.373320</td>\n",
       "      <td>11.246718</td>\n",
       "      <td>0.000000</td>\n",
       "      <td>1.547563</td>\n",
       "      <td>0.000000</td>\n",
       "      <td>0.000000</td>\n",
       "      <td>0.000000</td>\n",
       "      <td>0.000000</td>\n",
       "    </tr>\n",
       "    <tr>\n",
       "      <th>25%</th>\n",
       "      <td>128722.000000</td>\n",
       "      <td>703.000000</td>\n",
       "      <td>8.500125e+05</td>\n",
       "      <td>10199.960000</td>\n",
       "      <td>13.500000</td>\n",
       "      <td>34.000000</td>\n",
       "      <td>8.000000</td>\n",
       "      <td>0.000000</td>\n",
       "      <td>1.127650e+05</td>\n",
       "      <td>2.734380e+05</td>\n",
       "      <td>...</td>\n",
       "      <td>0.000000</td>\n",
       "      <td>11.765418</td>\n",
       "      <td>6.556778</td>\n",
       "      <td>13.653008</td>\n",
       "      <td>9.230237</td>\n",
       "      <td>2.674149</td>\n",
       "      <td>3.555348</td>\n",
       "      <td>2.197225</td>\n",
       "      <td>11.633070</td>\n",
       "      <td>12.518834</td>\n",
       "    </tr>\n",
       "    <tr>\n",
       "      <th>50%</th>\n",
       "      <td>241340.000000</td>\n",
       "      <td>722.000000</td>\n",
       "      <td>1.174010e+06</td>\n",
       "      <td>16219.825000</td>\n",
       "      <td>17.000000</td>\n",
       "      <td>200.000000</td>\n",
       "      <td>10.000000</td>\n",
       "      <td>0.000000</td>\n",
       "      <td>2.098930e+05</td>\n",
       "      <td>4.679840e+05</td>\n",
       "      <td>...</td>\n",
       "      <td>0.000000</td>\n",
       "      <td>12.393966</td>\n",
       "      <td>6.583409</td>\n",
       "      <td>13.975937</td>\n",
       "      <td>9.694051</td>\n",
       "      <td>2.890372</td>\n",
       "      <td>5.303305</td>\n",
       "      <td>2.397895</td>\n",
       "      <td>12.254358</td>\n",
       "      <td>13.056192</td>\n",
       "    </tr>\n",
       "    <tr>\n",
       "      <th>75%</th>\n",
       "      <td>402314.000000</td>\n",
       "      <td>739.000000</td>\n",
       "      <td>1.653076e+06</td>\n",
       "      <td>24054.950000</td>\n",
       "      <td>21.700000</td>\n",
       "      <td>200.000000</td>\n",
       "      <td>14.000000</td>\n",
       "      <td>0.000000</td>\n",
       "      <td>3.685050e+05</td>\n",
       "      <td>7.819900e+05</td>\n",
       "      <td>...</td>\n",
       "      <td>0.000000</td>\n",
       "      <td>12.904991</td>\n",
       "      <td>6.606650</td>\n",
       "      <td>14.318149</td>\n",
       "      <td>10.088138</td>\n",
       "      <td>3.122365</td>\n",
       "      <td>5.303305</td>\n",
       "      <td>2.708050</td>\n",
       "      <td>12.817212</td>\n",
       "      <td>13.569599</td>\n",
       "    </tr>\n",
       "    <tr>\n",
       "      <th>max</th>\n",
       "      <td>789250.000000</td>\n",
       "      <td>751.000000</td>\n",
       "      <td>3.647544e+07</td>\n",
       "      <td>435843.280000</td>\n",
       "      <td>70.500000</td>\n",
       "      <td>200.000000</td>\n",
       "      <td>76.000000</td>\n",
       "      <td>1.000000</td>\n",
       "      <td>3.287897e+07</td>\n",
       "      <td>1.539738e+09</td>\n",
       "      <td>...</td>\n",
       "      <td>1.000000</td>\n",
       "      <td>13.578840</td>\n",
       "      <td>6.622736</td>\n",
       "      <td>17.412150</td>\n",
       "      <td>12.985040</td>\n",
       "      <td>4.269697</td>\n",
       "      <td>5.303305</td>\n",
       "      <td>4.343805</td>\n",
       "      <td>17.308344</td>\n",
       "      <td>21.154878</td>\n",
       "    </tr>\n",
       "  </tbody>\n",
       "</table>\n",
       "<p>8 rows × 21 columns</p>\n",
       "</div>"
      ],
      "text/plain": [
       "       Current Loan Amount  Credit Score  Annual Income   Monthly Debt  \\\n",
       "count         75000.000000  60698.000000   6.069800e+04   75000.000000   \n",
       "mean         276323.636453    716.335365   1.376275e+06   18484.746977   \n",
       "std          201479.986949     28.282765   9.173650e+05   12214.596417   \n",
       "min               0.000000    585.000000   7.662700e+04       0.000000   \n",
       "25%          128722.000000    703.000000   8.500125e+05   10199.960000   \n",
       "50%          241340.000000    722.000000   1.174010e+06   16219.825000   \n",
       "75%          402314.000000    739.000000   1.653076e+06   24054.950000   \n",
       "max          789250.000000    751.000000   3.647544e+07  435843.280000   \n",
       "\n",
       "       Years of Credit History  Months since last delinquent  \\\n",
       "count             75000.000000                  75000.000000   \n",
       "mean                 18.206561                    122.752133   \n",
       "std                   7.020809                     83.715839   \n",
       "min                   3.700000                      0.000000   \n",
       "25%                  13.500000                     34.000000   \n",
       "50%                  17.000000                    200.000000   \n",
       "75%                  21.700000                    200.000000   \n",
       "max                  70.500000                    200.000000   \n",
       "\n",
       "       Number of Open Accounts  Number of Credit Problems  \\\n",
       "count             75000.000000               75000.000000   \n",
       "mean                 11.118653                   0.139747   \n",
       "std                   5.014911                   0.346726   \n",
       "min                   0.000000                   0.000000   \n",
       "25%                   8.000000                   0.000000   \n",
       "50%                  10.000000                   0.000000   \n",
       "75%                  14.000000                   0.000000   \n",
       "max                  76.000000                   1.000000   \n",
       "\n",
       "       Current Credit Balance  Maximum Open Credit  ...     Tax Liens  \\\n",
       "count            7.500000e+04         7.499900e+04  ...  74992.000000   \n",
       "mean             2.958234e+05         7.483686e+05  ...      0.019042   \n",
       "std              3.846981e+05         7.842222e+06  ...      0.136674   \n",
       "min              0.000000e+00         0.000000e+00  ...      0.000000   \n",
       "25%              1.127650e+05         2.734380e+05  ...      0.000000   \n",
       "50%              2.098930e+05         4.679840e+05  ...      0.000000   \n",
       "75%              3.685050e+05         7.819900e+05  ...      0.000000   \n",
       "max              3.287897e+07         1.539738e+09  ...      1.000000   \n",
       "\n",
       "       Log Current Loan Amount  Log Credit Score  Log Annual Income  \\\n",
       "count             75000.000000      60698.000000       60698.000000   \n",
       "mean                 11.011699          6.574736          13.990679   \n",
       "std                   4.028724          0.040600           0.523446   \n",
       "min                   0.000000          6.373320          11.246718   \n",
       "25%                  11.765418          6.556778          13.653008   \n",
       "50%                  12.393966          6.583409          13.975937   \n",
       "75%                  12.904991          6.606650          14.318149   \n",
       "max                  13.578840          6.622736          17.412150   \n",
       "\n",
       "       Log Monthly Debt  Log Years of Credit History  \\\n",
       "count      75000.000000                 75000.000000   \n",
       "mean           9.589561                     2.891894   \n",
       "std            0.794590                     0.357165   \n",
       "min            0.000000                     1.547563   \n",
       "25%            9.230237                     2.674149   \n",
       "50%            9.694051                     2.890372   \n",
       "75%           10.088138                     3.122365   \n",
       "max           12.985040                     4.269697   \n",
       "\n",
       "       Log Months since last delinquent  Log Number of Open Accounts  \\\n",
       "count                      75000.000000                 75000.000000   \n",
       "mean                           4.377705                     2.412452   \n",
       "std                            1.132837                     0.410870   \n",
       "min                            0.000000                     0.000000   \n",
       "25%                            3.555348                     2.197225   \n",
       "50%                            5.303305                     2.397895   \n",
       "75%                            5.303305                     2.708050   \n",
       "max                            5.303305                     4.343805   \n",
       "\n",
       "       Log Current Credit Balance  Log Maximum Open Credit  \n",
       "count                75000.000000             74999.000000  \n",
       "mean                    12.097111                12.955404  \n",
       "std                      1.373678                 1.359872  \n",
       "min                      0.000000                 0.000000  \n",
       "25%                     11.633070                12.518834  \n",
       "50%                     12.254358                13.056192  \n",
       "75%                     12.817212                13.569599  \n",
       "max                     17.308344                21.154878  \n",
       "\n",
       "[8 rows x 21 columns]"
      ]
     },
     "execution_count": 43,
     "metadata": {},
     "output_type": "execute_result"
    }
   ],
   "source": [
    "trainX_transformed.describe()"
   ]
  },
  {
   "cell_type": "code",
   "execution_count": 44,
   "id": "13b92f86",
   "metadata": {},
   "outputs": [
    {
     "data": {
      "text/html": [
       "<div>\n",
       "<style scoped>\n",
       "    .dataframe tbody tr th:only-of-type {\n",
       "        vertical-align: middle;\n",
       "    }\n",
       "\n",
       "    .dataframe tbody tr th {\n",
       "        vertical-align: top;\n",
       "    }\n",
       "\n",
       "    .dataframe thead th {\n",
       "        text-align: right;\n",
       "    }\n",
       "</style>\n",
       "<table border=\"1\" class=\"dataframe\">\n",
       "  <thead>\n",
       "    <tr style=\"text-align: right;\">\n",
       "      <th></th>\n",
       "      <th>0</th>\n",
       "      <th>1</th>\n",
       "      <th>2</th>\n",
       "      <th>3</th>\n",
       "      <th>4</th>\n",
       "      <th>5</th>\n",
       "      <th>6</th>\n",
       "      <th>7</th>\n",
       "      <th>8</th>\n",
       "      <th>9</th>\n",
       "      <th>...</th>\n",
       "      <th>11</th>\n",
       "      <th>12</th>\n",
       "      <th>13</th>\n",
       "      <th>14</th>\n",
       "      <th>15</th>\n",
       "      <th>16</th>\n",
       "      <th>17</th>\n",
       "      <th>18</th>\n",
       "      <th>19</th>\n",
       "      <th>20</th>\n",
       "    </tr>\n",
       "  </thead>\n",
       "  <tbody>\n",
       "    <tr>\n",
       "      <th>count</th>\n",
       "      <td>7.500000e+04</td>\n",
       "      <td>6.069800e+04</td>\n",
       "      <td>6.069800e+04</td>\n",
       "      <td>7.500000e+04</td>\n",
       "      <td>7.500000e+04</td>\n",
       "      <td>7.500000e+04</td>\n",
       "      <td>7.500000e+04</td>\n",
       "      <td>7.500000e+04</td>\n",
       "      <td>7.500000e+04</td>\n",
       "      <td>7.499900e+04</td>\n",
       "      <td>...</td>\n",
       "      <td>7.499200e+04</td>\n",
       "      <td>7.500000e+04</td>\n",
       "      <td>6.069800e+04</td>\n",
       "      <td>6.069800e+04</td>\n",
       "      <td>7.500000e+04</td>\n",
       "      <td>7.500000e+04</td>\n",
       "      <td>7.500000e+04</td>\n",
       "      <td>7.500000e+04</td>\n",
       "      <td>7.500000e+04</td>\n",
       "      <td>7.499900e+04</td>\n",
       "    </tr>\n",
       "    <tr>\n",
       "      <th>mean</th>\n",
       "      <td>1.186843e-16</td>\n",
       "      <td>-5.507766e-16</td>\n",
       "      <td>-1.053558e-17</td>\n",
       "      <td>1.971519e-16</td>\n",
       "      <td>2.809012e-17</td>\n",
       "      <td>2.349528e-17</td>\n",
       "      <td>1.521509e-16</td>\n",
       "      <td>4.121148e-17</td>\n",
       "      <td>4.504841e-17</td>\n",
       "      <td>3.694871e-18</td>\n",
       "      <td>...</td>\n",
       "      <td>-4.168962e-17</td>\n",
       "      <td>1.005655e-16</td>\n",
       "      <td>-6.931532e-15</td>\n",
       "      <td>1.023970e-15</td>\n",
       "      <td>-8.146609e-16</td>\n",
       "      <td>5.897505e-16</td>\n",
       "      <td>1.545194e-16</td>\n",
       "      <td>9.206739e-16</td>\n",
       "      <td>-8.899785e-16</td>\n",
       "      <td>-6.221595e-16</td>\n",
       "    </tr>\n",
       "    <tr>\n",
       "      <th>std</th>\n",
       "      <td>1.000007e+00</td>\n",
       "      <td>1.000008e+00</td>\n",
       "      <td>1.000008e+00</td>\n",
       "      <td>1.000007e+00</td>\n",
       "      <td>1.000007e+00</td>\n",
       "      <td>1.000007e+00</td>\n",
       "      <td>1.000007e+00</td>\n",
       "      <td>1.000007e+00</td>\n",
       "      <td>1.000007e+00</td>\n",
       "      <td>1.000007e+00</td>\n",
       "      <td>...</td>\n",
       "      <td>1.000007e+00</td>\n",
       "      <td>1.000007e+00</td>\n",
       "      <td>1.000008e+00</td>\n",
       "      <td>1.000008e+00</td>\n",
       "      <td>1.000007e+00</td>\n",
       "      <td>1.000007e+00</td>\n",
       "      <td>1.000007e+00</td>\n",
       "      <td>1.000007e+00</td>\n",
       "      <td>1.000007e+00</td>\n",
       "      <td>1.000007e+00</td>\n",
       "    </tr>\n",
       "    <tr>\n",
       "      <th>min</th>\n",
       "      <td>-1.371479e+00</td>\n",
       "      <td>-4.643692e+00</td>\n",
       "      <td>-1.416731e+00</td>\n",
       "      <td>-1.513343e+00</td>\n",
       "      <td>-2.066237e+00</td>\n",
       "      <td>-1.466305e+00</td>\n",
       "      <td>-2.217133e+00</td>\n",
       "      <td>-4.030487e-01</td>\n",
       "      <td>-7.689807e-01</td>\n",
       "      <td>-9.542877e-02</td>\n",
       "      <td>...</td>\n",
       "      <td>-1.393258e-01</td>\n",
       "      <td>-2.733315e+00</td>\n",
       "      <td>-4.960970e+00</td>\n",
       "      <td>-5.242151e+00</td>\n",
       "      <td>-1.206864e+01</td>\n",
       "      <td>-3.763921e+00</td>\n",
       "      <td>-3.864399e+00</td>\n",
       "      <td>-5.871612e+00</td>\n",
       "      <td>-8.806422e+00</td>\n",
       "      <td>-9.526996e+00</td>\n",
       "    </tr>\n",
       "    <tr>\n",
       "      <th>25%</th>\n",
       "      <td>-7.325920e-01</td>\n",
       "      <td>-4.715053e-01</td>\n",
       "      <td>-5.736727e-01</td>\n",
       "      <td>-6.782739e-01</td>\n",
       "      <td>-6.703776e-01</td>\n",
       "      <td>-1.060166e+00</td>\n",
       "      <td>-6.218802e-01</td>\n",
       "      <td>-4.030487e-01</td>\n",
       "      <td>-4.758527e-01</td>\n",
       "      <td>-6.056112e-02</td>\n",
       "      <td>...</td>\n",
       "      <td>-1.393258e-01</td>\n",
       "      <td>1.870876e-01</td>\n",
       "      <td>-4.422938e-01</td>\n",
       "      <td>-6.450983e-01</td>\n",
       "      <td>-4.522152e-01</td>\n",
       "      <td>-6.096542e-01</td>\n",
       "      <td>-7.259317e-01</td>\n",
       "      <td>-5.238380e-01</td>\n",
       "      <td>-3.378112e-01</td>\n",
       "      <td>-3.210398e-01</td>\n",
       "    </tr>\n",
       "    <tr>\n",
       "      <th>50%</th>\n",
       "      <td>-1.736345e-01</td>\n",
       "      <td>2.002874e-01</td>\n",
       "      <td>-2.204870e-01</td>\n",
       "      <td>-1.854287e-01</td>\n",
       "      <td>-1.718562e-01</td>\n",
       "      <td>9.227451e-01</td>\n",
       "      <td>-2.230669e-01</td>\n",
       "      <td>-4.030487e-01</td>\n",
       "      <td>-2.233725e-01</td>\n",
       "      <td>-3.575345e-02</td>\n",
       "      <td>...</td>\n",
       "      <td>-1.393258e-01</td>\n",
       "      <td>3.431054e-01</td>\n",
       "      <td>2.136377e-01</td>\n",
       "      <td>-2.816422e-02</td>\n",
       "      <td>1.315033e-01</td>\n",
       "      <td>-4.262947e-03</td>\n",
       "      <td>8.170691e-01</td>\n",
       "      <td>-3.543019e-02</td>\n",
       "      <td>1.144721e-01</td>\n",
       "      <td>7.411611e-02</td>\n",
       "    </tr>\n",
       "    <tr>\n",
       "      <th>75%</th>\n",
       "      <td>6.253286e-01</td>\n",
       "      <td>8.013651e-01</td>\n",
       "      <td>3.017369e-01</td>\n",
       "      <td>4.560315e-01</td>\n",
       "      <td>4.975868e-01</td>\n",
       "      <td>9.227451e-01</td>\n",
       "      <td>5.745597e-01</td>\n",
       "      <td>-4.030487e-01</td>\n",
       "      <td>1.889328e-01</td>\n",
       "      <td>4.287258e-03</td>\n",
       "      <td>...</td>\n",
       "      <td>-1.393258e-01</td>\n",
       "      <td>4.699515e-01</td>\n",
       "      <td>7.860743e-01</td>\n",
       "      <td>6.256091e-01</td>\n",
       "      <td>6.274684e-01</td>\n",
       "      <td>6.452820e-01</td>\n",
       "      <td>8.170691e-01</td>\n",
       "      <td>7.194487e-01</td>\n",
       "      <td>5.242173e-01</td>\n",
       "      <td>4.516594e-01</td>\n",
       "    </tr>\n",
       "    <tr>\n",
       "      <th>max</th>\n",
       "      <td>2.545810e+00</td>\n",
       "      <td>1.225655e+00</td>\n",
       "      <td>3.826116e+01</td>\n",
       "      <td>3.416906e+01</td>\n",
       "      <td>7.448399e+00</td>\n",
       "      <td>9.227451e-01</td>\n",
       "      <td>1.293777e+01</td>\n",
       "      <td>2.481090e+00</td>\n",
       "      <td>8.469854e+01</td>\n",
       "      <td>1.962454e+02</td>\n",
       "      <td>...</td>\n",
       "      <td>7.177423e+00</td>\n",
       "      <td>6.372137e-01</td>\n",
       "      <td>1.182284e+00</td>\n",
       "      <td>6.536487e+00</td>\n",
       "      <td>4.273274e+00</td>\n",
       "      <td>3.857635e+00</td>\n",
       "      <td>8.170691e-01</td>\n",
       "      <td>4.700676e+00</td>\n",
       "      <td>3.793659e+00</td>\n",
       "      <td>6.029635e+00</td>\n",
       "    </tr>\n",
       "  </tbody>\n",
       "</table>\n",
       "<p>8 rows × 21 columns</p>\n",
       "</div>"
      ],
      "text/plain": [
       "                 0             1             2             3             4   \\\n",
       "count  7.500000e+04  6.069800e+04  6.069800e+04  7.500000e+04  7.500000e+04   \n",
       "mean   1.186843e-16 -5.507766e-16 -1.053558e-17  1.971519e-16  2.809012e-17   \n",
       "std    1.000007e+00  1.000008e+00  1.000008e+00  1.000007e+00  1.000007e+00   \n",
       "min   -1.371479e+00 -4.643692e+00 -1.416731e+00 -1.513343e+00 -2.066237e+00   \n",
       "25%   -7.325920e-01 -4.715053e-01 -5.736727e-01 -6.782739e-01 -6.703776e-01   \n",
       "50%   -1.736345e-01  2.002874e-01 -2.204870e-01 -1.854287e-01 -1.718562e-01   \n",
       "75%    6.253286e-01  8.013651e-01  3.017369e-01  4.560315e-01  4.975868e-01   \n",
       "max    2.545810e+00  1.225655e+00  3.826116e+01  3.416906e+01  7.448399e+00   \n",
       "\n",
       "                 5             6             7             8             9   \\\n",
       "count  7.500000e+04  7.500000e+04  7.500000e+04  7.500000e+04  7.499900e+04   \n",
       "mean   2.349528e-17  1.521509e-16  4.121148e-17  4.504841e-17  3.694871e-18   \n",
       "std    1.000007e+00  1.000007e+00  1.000007e+00  1.000007e+00  1.000007e+00   \n",
       "min   -1.466305e+00 -2.217133e+00 -4.030487e-01 -7.689807e-01 -9.542877e-02   \n",
       "25%   -1.060166e+00 -6.218802e-01 -4.030487e-01 -4.758527e-01 -6.056112e-02   \n",
       "50%    9.227451e-01 -2.230669e-01 -4.030487e-01 -2.233725e-01 -3.575345e-02   \n",
       "75%    9.227451e-01  5.745597e-01 -4.030487e-01  1.889328e-01  4.287258e-03   \n",
       "max    9.227451e-01  1.293777e+01  2.481090e+00  8.469854e+01  1.962454e+02   \n",
       "\n",
       "       ...            11            12            13            14  \\\n",
       "count  ...  7.499200e+04  7.500000e+04  6.069800e+04  6.069800e+04   \n",
       "mean   ... -4.168962e-17  1.005655e-16 -6.931532e-15  1.023970e-15   \n",
       "std    ...  1.000007e+00  1.000007e+00  1.000008e+00  1.000008e+00   \n",
       "min    ... -1.393258e-01 -2.733315e+00 -4.960970e+00 -5.242151e+00   \n",
       "25%    ... -1.393258e-01  1.870876e-01 -4.422938e-01 -6.450983e-01   \n",
       "50%    ... -1.393258e-01  3.431054e-01  2.136377e-01 -2.816422e-02   \n",
       "75%    ... -1.393258e-01  4.699515e-01  7.860743e-01  6.256091e-01   \n",
       "max    ...  7.177423e+00  6.372137e-01  1.182284e+00  6.536487e+00   \n",
       "\n",
       "                 15            16            17            18            19  \\\n",
       "count  7.500000e+04  7.500000e+04  7.500000e+04  7.500000e+04  7.500000e+04   \n",
       "mean  -8.146609e-16  5.897505e-16  1.545194e-16  9.206739e-16 -8.899785e-16   \n",
       "std    1.000007e+00  1.000007e+00  1.000007e+00  1.000007e+00  1.000007e+00   \n",
       "min   -1.206864e+01 -3.763921e+00 -3.864399e+00 -5.871612e+00 -8.806422e+00   \n",
       "25%   -4.522152e-01 -6.096542e-01 -7.259317e-01 -5.238380e-01 -3.378112e-01   \n",
       "50%    1.315033e-01 -4.262947e-03  8.170691e-01 -3.543019e-02  1.144721e-01   \n",
       "75%    6.274684e-01  6.452820e-01  8.170691e-01  7.194487e-01  5.242173e-01   \n",
       "max    4.273274e+00  3.857635e+00  8.170691e-01  4.700676e+00  3.793659e+00   \n",
       "\n",
       "                 20  \n",
       "count  7.499900e+04  \n",
       "mean  -6.221595e-16  \n",
       "std    1.000007e+00  \n",
       "min   -9.526996e+00  \n",
       "25%   -3.210398e-01  \n",
       "50%    7.411611e-02  \n",
       "75%    4.516594e-01  \n",
       "max    6.029635e+00  \n",
       "\n",
       "[8 rows x 21 columns]"
      ]
     },
     "execution_count": 44,
     "metadata": {},
     "output_type": "execute_result"
    }
   ],
   "source": [
    "pd.DataFrame(trainX_stdz).describe()"
   ]
  },
  {
   "cell_type": "code",
   "execution_count": 45,
   "id": "d423fd3f",
   "metadata": {},
   "outputs": [
    {
     "data": {
      "image/png": "[encoded data removed]",
      "text/plain": [
       "<Figure size 1440x1440 with 25 Axes>"
      ]
     },
     "metadata": {
      "needs_background": "light"
     },
     "output_type": "display_data"
    }
   ],
   "source": [
    "pd.DataFrame(trainX_stdz).hist(bins=50, figsize=(20,20))\n",
    "plt.show()"
   ]
  },
  {
   "cell_type": "markdown",
   "id": "98892965",
   "metadata": {},
   "source": [
    "<h3>Dealing with Missing Data</h3>\n",
    "\n",
    "As mentioned, rows with missing values cannot be used in most models and need to be handled. There are a few treatments for missing values.\n",
    "\n",
    "<h4>1. Dropping Rows with Missing Values</h4>\n",
    "\n",
    "Not the best way to handle missing data, but also not the worst. This approach is rather frowned upon in statistics, but it's okay for us because we are using machine learning :)\n",
    "\n",
    "Dropping missing values is simple with Pandas. We can use <b>DataFrame.dropna()</b>. Notice how the number of rows drops from 690 to 653 afterward. dropna() won't change the original DataFrame, so we need to store the new DataFrame in a new variable."
   ]
  },
  {
   "cell_type": "code",
   "execution_count": 46,
   "id": "9fb6ef7a",
   "metadata": {},
   "outputs": [
    {
     "data": {
      "text/plain": [
       "((27195, 16), (75000, 16))"
      ]
     },
     "execution_count": 46,
     "metadata": {},
     "output_type": "execute_result"
    }
   ],
   "source": [
    "trainX_dropna = trainX.dropna()\n",
    "trainX_dropna.shape, trainX.shape"
   ]
  },
  {
   "cell_type": "markdown",
   "id": "7cbb7254",
   "metadata": {},
   "source": [
    "<h4>2. Imputation</h4>\n",
    "\n",
    "Dropping missing data has certain problems\n",
    "\n",
    "1. Losing information. We have to drop a whole row even if it only has one field missing. Furthermore, in many cases, missing data can be a strong pattern for analysis.\n",
    "2. Not enough data for modeling. In many cases, the data can be very dirty, and dropping all missing may result in a much smaller dataset.\n",
    "\n",
    "A preferred way in such cases is to <b>impute</b> the missing data. This means to replace missing values with a certain value. \n",
    "\n",
    "If the column with missing value is a class column, we can simply replace the missing values with a missing class, for example, 'missing'. In sklearn, we use SimpleImputer for imputation with constants."
   ]
  },
  {
   "cell_type": "code",
   "execution_count": 47,
   "id": "713c9428",
   "metadata": {
    "scrolled": true
   },
   "outputs": [],
   "source": [
    "from sklearn.impute import SimpleImputer\n",
    "\n",
    "cat_cols = ['Term','Years in current job', 'Home Ownership', 'Purpose']\n",
    "trainX_imp = SimpleImputer(strategy='constant',fill_value='missing').fit_transform(trainX[cat_cols])"
   ]
  },
  {
   "cell_type": "code",
   "execution_count": 48,
   "id": "4ca53d45",
   "metadata": {},
   "outputs": [
    {
     "name": "stdout",
     "output_type": "stream",
     "text": [
      "<class 'pandas.core.frame.DataFrame'>\n",
      "Int64Index: 75000 entries, 4070 to 51138\n",
      "Data columns (total 4 columns):\n",
      " #   Column                Non-Null Count  Dtype \n",
      "---  ------                --------------  ----- \n",
      " 0   Term                  75000 non-null  object\n",
      " 1   Years in current job  71829 non-null  object\n",
      " 2   Home Ownership        74831 non-null  object\n",
      " 3   Purpose               74834 non-null  object\n",
      "dtypes: object(4)\n",
      "memory usage: 2.9+ MB\n"
     ]
    }
   ],
   "source": [
    "trainX[cat_cols].info()"
   ]
  },
  {
   "cell_type": "code",
   "execution_count": 49,
   "id": "5890848d",
   "metadata": {},
   "outputs": [
    {
     "name": "stdout",
     "output_type": "stream",
     "text": [
      "<class 'pandas.core.frame.DataFrame'>\n",
      "RangeIndex: 75000 entries, 0 to 74999\n",
      "Data columns (total 4 columns):\n",
      " #   Column  Non-Null Count  Dtype \n",
      "---  ------  --------------  ----- \n",
      " 0   0       75000 non-null  object\n",
      " 1   1       75000 non-null  object\n",
      " 2   2       75000 non-null  object\n",
      " 3   3       75000 non-null  object\n",
      "dtypes: object(4)\n",
      "memory usage: 2.3+ MB\n"
     ]
    }
   ],
   "source": [
    "pd.DataFrame(trainX_imp).info()"
   ]
  },
  {
   "cell_type": "markdown",
   "id": "4988f81d",
   "metadata": {},
   "source": [
    "When the column being imputed is numeric, a very common strategy is to use the median of the column as the replacing value. We will still use fillna()"
   ]
  },
  {
   "cell_type": "code",
   "execution_count": 50,
   "id": "7b80360d",
   "metadata": {},
   "outputs": [],
   "source": [
    "num_cols = trainX.drop(['Term','Years in current job', 'Home Ownership', 'Purpose'], axis=1).columns\n",
    "trainX_imp2 = SimpleImputer(strategy='median').fit_transform(trainX[num_cols])"
   ]
  },
  {
   "cell_type": "code",
   "execution_count": 51,
   "id": "5a49a294",
   "metadata": {},
   "outputs": [
    {
     "name": "stdout",
     "output_type": "stream",
     "text": [
      "<class 'pandas.core.frame.DataFrame'>\n",
      "RangeIndex: 75000 entries, 0 to 74999\n",
      "Data columns (total 12 columns):\n",
      " #   Column  Non-Null Count  Dtype  \n",
      "---  ------  --------------  -----  \n",
      " 0   0       75000 non-null  float64\n",
      " 1   1       75000 non-null  float64\n",
      " 2   2       75000 non-null  float64\n",
      " 3   3       75000 non-null  float64\n",
      " 4   4       75000 non-null  float64\n",
      " 5   5       75000 non-null  float64\n",
      " 6   6       75000 non-null  float64\n",
      " 7   7       75000 non-null  float64\n",
      " 8   8       75000 non-null  float64\n",
      " 9   9       75000 non-null  float64\n",
      " 10  10      75000 non-null  float64\n",
      " 11  11      75000 non-null  float64\n",
      "dtypes: float64(12)\n",
      "memory usage: 6.9 MB\n"
     ]
    }
   ],
   "source": [
    "pd.DataFrame(trainX_imp2).info()"
   ]
  },
  {
   "cell_type": "markdown",
   "id": "d7c2fd5b",
   "metadata": {},
   "source": [
    "A note when imputing missing values in numeric columns is that no matter which approach you use, the replacing data is still \"fake\" data. They may affect your models when their proportion is large. In general, if the column has more than 25-30% missing values, then you are probably better off dropping it.\n",
    "\n",
    "SKLearn provides another type of imputation - KNNImputation. Please do a bit research on this method."
   ]
  },
  {
   "attachments": {
    "dummy.PNG": {
     "image/png": "[encoded data removed]"
    }
   },
   "cell_type": "markdown",
   "id": "b5c3bfee",
   "metadata": {},
   "source": [
    "<h3>Encoding Class Attributes</h3>\n",
    "\n",
    "Very few models can directly use class attributes. Very often, we need to find a way to convert class attributes to numeric ones. We will discuss a few in this module.\n",
    "\n",
    "<h4>One Hot Encoding</h4>\n",
    "\n",
    "In this method, we create a new <b>binary</b> column for <b>each distinct value</b> in the class column. This means, a class column that has three values, for example, (low, medium, high), will result in three new binary columns. Here, binary means the columns only have two distinct value, 0 and 1. The value is 1 when the row belong to the corresponding class of the column, and 0 otherwise. For example\n",
    "\n",
    "![dummy.PNG](attachment:dummy.PNG)\n",
    "\n",
    "As you can see, rows that have class of low have the new attribute class_low of 1, and the rest being 0. Similarly for rows in medium class, and high class.\n",
    "\n",
    "In SKLearn, we can use <b>sklearn.preprocessing.OneHotEncoder</b>. Similar to StandardScaler, this is done quite easily with <b>fit_transform()</b>. This transformation also outputs numpy array instead of DataFrame. Again, this doesn't matter much."
   ]
  },
  {
   "cell_type": "code",
   "execution_count": 52,
   "id": "6d58c608",
   "metadata": {},
   "outputs": [
    {
     "data": {
      "text/plain": [
       "(array([[0., 1., 0., ..., 0., 0., 0.],\n",
       "        [0., 1., 0., ..., 1., 0., 0.],\n",
       "        [1., 0., 0., ..., 1., 0., 0.],\n",
       "        ...,\n",
       "        [1., 0., 0., ..., 0., 0., 0.],\n",
       "        [1., 0., 0., ..., 0., 0., 0.],\n",
       "        [0., 1., 0., ..., 0., 0., 0.]]),\n",
       " array([0., 1., 0., 0., 0., 0., 0., 0., 1., 0., 0., 0., 0., 0., 1., 0., 0.,\n",
       "        0., 0., 0., 0., 1., 0., 0., 0., 0., 0., 0., 0., 0., 0., 0.]),\n",
       " (75000, 32))"
      ]
     },
     "execution_count": 52,
     "metadata": {},
     "output_type": "execute_result"
    }
   ],
   "source": [
    "from sklearn.preprocessing import OneHotEncoder\n",
    "\n",
    "#notice the double brackets in iris[['class']] \n",
    "#This is because fit_transform only takes 2D data, \n",
    "#and iris['class'] is a pandas series which is an 1D object\n",
    "\n",
    "#another note, fit_transform() returns a sparse array\n",
    "#so we need to use toarray() to obtain a regular numpy array\n",
    "onehot = OneHotEncoder(sparse=False)\n",
    "trainX_class_code = onehot.fit_transform(trainX_imp)\n",
    "\n",
    "trainX_class_code, trainX_class_code[0], trainX_class_code.shape"
   ]
  },
  {
   "cell_type": "markdown",
   "id": "98bfb0b1",
   "metadata": {},
   "source": [
    "<h4>Target Encoding (Optional Material)</h4>\n",
    "\n",
    "One hot encoding is effective only if the number of unique values in the class column is small. If you have a class column that stores the, for example, states in the US - which means over 50 unique values, this approach will result in over 50 new columns in the data. Furthermore, data in these columns are very sparse (which mean most values are 0) and we don't usually like that. In cases like this, we prefer the <b>Target Encoder</b> approach.\n",
    "\n",
    "<b>Target Encoder</b> requires the data to have a target. Since we will be working with supervised learning in this course, this is not a problem. In brief, Target Encoding  relaces the classes' values with the expected values of target.\n",
    "\n",
    "We will use the package <b>category_encoders</b> for this transform. You can install the package with\n",
    "\n",
    "<b>pip install category_encoders</b>\n",
    "\n",
    "or if you are using Linux/Mac\n",
    "\n",
    "<b>sudo pip install category_encoders</b>\n",
    "\n",
    "After installing the module, we can use <b>TargetEncoder</b>"
   ]
  },
  {
   "cell_type": "code",
   "execution_count": 53,
   "id": "bc1ed530",
   "metadata": {},
   "outputs": [
    {
     "name": "stderr",
     "output_type": "stream",
     "text": [
      "C:\\Users\\linhl\\miniconda3\\envs\\tfbase\\lib\\site-packages\\category_encoders\\target_encoder.py:92: FutureWarning: Default parameter min_samples_leaf will change in version 2.6.See https://github.com/scikit-learn-contrib/category_encoders/issues/327\n",
      "  warnings.warn(\"Default parameter min_samples_leaf will change in version 2.6.\"\n",
      "C:\\Users\\linhl\\miniconda3\\envs\\tfbase\\lib\\site-packages\\category_encoders\\target_encoder.py:97: FutureWarning: Default parameter smoothing will change in version 2.6.See https://github.com/scikit-learn-contrib/category_encoders/issues/327\n",
      "  warnings.warn(\"Default parameter smoothing will change in version 2.6.\"\n"
     ]
    },
    {
     "data": {
      "text/html": [
       "<div>\n",
       "<style scoped>\n",
       "    .dataframe tbody tr th:only-of-type {\n",
       "        vertical-align: middle;\n",
       "    }\n",
       "\n",
       "    .dataframe tbody tr th {\n",
       "        vertical-align: top;\n",
       "    }\n",
       "\n",
       "    .dataframe thead th {\n",
       "        text-align: right;\n",
       "    }\n",
       "</style>\n",
       "<table border=\"1\" class=\"dataframe\">\n",
       "  <thead>\n",
       "    <tr style=\"text-align: right;\">\n",
       "      <th></th>\n",
       "      <th>Term</th>\n",
       "      <th>Years in current job</th>\n",
       "      <th>Home Ownership</th>\n",
       "      <th>Purpose</th>\n",
       "    </tr>\n",
       "  </thead>\n",
       "  <tbody>\n",
       "    <tr>\n",
       "      <th>4070</th>\n",
       "      <td>0.197811</td>\n",
       "      <td>0.232275</td>\n",
       "      <td>0.202813</td>\n",
       "      <td>0.227759</td>\n",
       "    </tr>\n",
       "    <tr>\n",
       "      <th>43409</th>\n",
       "      <td>0.197811</td>\n",
       "      <td>0.214610</td>\n",
       "      <td>0.202813</td>\n",
       "      <td>0.236497</td>\n",
       "    </tr>\n",
       "    <tr>\n",
       "      <th>24745</th>\n",
       "      <td>0.300764</td>\n",
       "      <td>0.229896</td>\n",
       "      <td>0.202813</td>\n",
       "      <td>0.236497</td>\n",
       "    </tr>\n",
       "    <tr>\n",
       "      <th>41469</th>\n",
       "      <td>0.300764</td>\n",
       "      <td>0.229896</td>\n",
       "      <td>0.253288</td>\n",
       "      <td>0.227759</td>\n",
       "    </tr>\n",
       "    <tr>\n",
       "      <th>41618</th>\n",
       "      <td>0.300764</td>\n",
       "      <td>0.227850</td>\n",
       "      <td>0.228742</td>\n",
       "      <td>0.227759</td>\n",
       "    </tr>\n",
       "    <tr>\n",
       "      <th>...</th>\n",
       "      <td>...</td>\n",
       "      <td>...</td>\n",
       "      <td>...</td>\n",
       "      <td>...</td>\n",
       "    </tr>\n",
       "    <tr>\n",
       "      <th>33712</th>\n",
       "      <td>0.197811</td>\n",
       "      <td>0.214610</td>\n",
       "      <td>0.202813</td>\n",
       "      <td>0.227759</td>\n",
       "    </tr>\n",
       "    <tr>\n",
       "      <th>10439</th>\n",
       "      <td>0.197811</td>\n",
       "      <td>0.214610</td>\n",
       "      <td>0.253288</td>\n",
       "      <td>0.227759</td>\n",
       "    </tr>\n",
       "    <tr>\n",
       "      <th>3043</th>\n",
       "      <td>0.300764</td>\n",
       "      <td>0.214610</td>\n",
       "      <td>0.202813</td>\n",
       "      <td>0.227759</td>\n",
       "    </tr>\n",
       "    <tr>\n",
       "      <th>14474</th>\n",
       "      <td>0.300764</td>\n",
       "      <td>0.232275</td>\n",
       "      <td>0.202813</td>\n",
       "      <td>0.227759</td>\n",
       "    </tr>\n",
       "    <tr>\n",
       "      <th>51138</th>\n",
       "      <td>0.197811</td>\n",
       "      <td>0.243977</td>\n",
       "      <td>0.202813</td>\n",
       "      <td>0.227759</td>\n",
       "    </tr>\n",
       "  </tbody>\n",
       "</table>\n",
       "<p>75000 rows × 4 columns</p>\n",
       "</div>"
      ],
      "text/plain": [
       "           Term  Years in current job  Home Ownership   Purpose\n",
       "4070   0.197811              0.232275        0.202813  0.227759\n",
       "43409  0.197811              0.214610        0.202813  0.236497\n",
       "24745  0.300764              0.229896        0.202813  0.236497\n",
       "41469  0.300764              0.229896        0.253288  0.227759\n",
       "41618  0.300764              0.227850        0.228742  0.227759\n",
       "...         ...                   ...             ...       ...\n",
       "33712  0.197811              0.214610        0.202813  0.227759\n",
       "10439  0.197811              0.214610        0.253288  0.227759\n",
       "3043   0.300764              0.214610        0.202813  0.227759\n",
       "14474  0.300764              0.232275        0.202813  0.227759\n",
       "51138  0.197811              0.243977        0.202813  0.227759\n",
       "\n",
       "[75000 rows x 4 columns]"
      ]
     },
     "execution_count": 53,
     "metadata": {},
     "output_type": "execute_result"
    }
   ],
   "source": [
    "from category_encoders import TargetEncoder\n",
    "\n",
    "targetencode = TargetEncoder()\n",
    "\n",
    "#now we can use the encoder\n",
    "trainX_coded = targetencode.fit_transform(trainX, y=(trainY=='Charged Off'))\n",
    "\n",
    "trainX_coded[cat_cols]"
   ]
  },
  {
   "cell_type": "markdown",
   "id": "b3bb76e4",
   "metadata": {},
   "source": [
    "<h3>SKLearn Processing Pipeline</h3>\n",
    "\n",
    "SKLearn provides a very powerful processing tool called <b>pipeline</b>. A pipeline allows us to combine all previously discussed steps into one single object that can be easily applied onto different parts of the data. In this example, we build a processing pipeline that includes\n",
    "\n",
    "1. Data correction and log transformation\n",
    "2. Imputation\n",
    "3. Standardization\n",
    "4. One Hot Encoder\n",
    "\n",
    "We will separate the preprocessing of numeric and class columns in two different pipelines and combine them using ColumnTransformer"
   ]
  },
  {
   "cell_type": "code",
   "execution_count": 54,
   "id": "094a5cba",
   "metadata": {},
   "outputs": [],
   "source": [
    "from sklearn.pipeline import Pipeline\n",
    "from sklearn.preprocessing import FunctionTransformer"
   ]
  },
  {
   "cell_type": "code",
   "execution_count": 55,
   "id": "88a4bd92",
   "metadata": {},
   "outputs": [],
   "source": [
    "def fix_columns(X_in):\n",
    "    X = X_in.copy()\n",
    "    X.loc[X['Current Loan Amount'] == 99999999, 'Current Loan Amount'] = 0\n",
    "    X.loc[X['Credit Score'] > 1000, 'Credit Score'] /= 10\n",
    "    X.loc[X['Bankruptcies'] > 1, 'Bankruptcies'] = 1\n",
    "    X.loc[X['Tax Liens'] > 1, 'Tax Liens'] = 1\n",
    "    X.loc[X['Number of Credit Problems'] > 1, 'Number of Credit Problems'] = 1\n",
    "    X.loc[X['Months since last delinquent'].isna(), 'Months since last delinquent'] = 200\n",
    "    log_cols = ['Current Loan Amount', 'Credit Score', 'Annual Income', 'Monthly Debt', \n",
    "                'Years of Credit History', 'Months since last delinquent', 'Number of Open Accounts',\n",
    "                'Current Credit Balance', 'Maximum Open Credit']\n",
    "    for col in log_cols:\n",
    "        X['Log ' + col] = np.log(X[col] + 1)\n",
    "    return X\n",
    "\n",
    "num_pipeline = Pipeline([\n",
    "    ('log transform', FunctionTransformer(fix_columns, validate=False)),\n",
    "    ('impute', SimpleImputer(strategy='median')),\n",
    "    ('standardize', StandardScaler())\n",
    "])"
   ]
  },
  {
   "cell_type": "code",
   "execution_count": 56,
   "id": "6643bc6b",
   "metadata": {},
   "outputs": [],
   "source": [
    "cat_pipeline = Pipeline([\n",
    "    ('impute', SimpleImputer(strategy='constant',fill_value='missing')),\n",
    "    ('encode', OneHotEncoder())\n",
    "])"
   ]
  },
  {
   "cell_type": "code",
   "execution_count": 57,
   "id": "bf6136f7",
   "metadata": {},
   "outputs": [],
   "source": [
    "from sklearn.compose import ColumnTransformer\n",
    "\n",
    "full_pipeline = ColumnTransformer([\n",
    "    ('numeric', num_pipeline, num_cols),\n",
    "    ('class', cat_pipeline, cat_cols)\n",
    "])"
   ]
  },
  {
   "cell_type": "code",
   "execution_count": 58,
   "id": "14ebd173",
   "metadata": {},
   "outputs": [
    {
     "data": {
      "text/plain": [
       "(75000, 53)"
      ]
     },
     "execution_count": 58,
     "metadata": {},
     "output_type": "execute_result"
    }
   ],
   "source": [
    "trainX_prc = full_pipeline.fit_transform(trainX)\n",
    "\n",
    "trainX_prc.shape"
   ]
  },
  {
   "cell_type": "markdown",
   "id": "1bae414e",
   "metadata": {},
   "source": [
    "The pipeline can then be applied on the test data. However, always remember to run <b>fit_transform on training data</b>, and <b>only transform on test data</b>."
   ]
  },
  {
   "cell_type": "code",
   "execution_count": 59,
   "id": "84cc4ae1",
   "metadata": {},
   "outputs": [
    {
     "data": {
      "text/plain": [
       "(25000, 53)"
      ]
     },
     "execution_count": 59,
     "metadata": {},
     "output_type": "execute_result"
    }
   ],
   "source": [
    "testX_prc = full_pipeline.transform(testX)\n",
    "\n",
    "testX_prc.shape"
   ]
  }
 ],
 "metadata": {
  "kernelspec": {
   "display_name": "Python 3 (ipykernel)",
   "language": "python",
   "name": "python3"
  },
  "language_info": {
   "codemirror_mode": {
    "name": "ipython",
    "version": 3
   },
   "file_extension": ".py",
   "mimetype": "text/x-python",
   "name": "python",
   "nbconvert_exporter": "python",
   "pygments_lexer": "ipython3",
   "version": "3.9.11"
  }
 },
 "nbformat": 4,
 "nbformat_minor": 5
}
