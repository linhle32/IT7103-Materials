{
 "cells": [
  {
   "cell_type": "markdown",
   "metadata": {},
   "source": [
    "<h2>Decision Tree</h2>\n",
    "\n",
    "In this module, we learn to use Decision Tree to solve classification and regression problems\n",
    "\n",
    "<h3>For Classification</h3>\n",
    "\n",
    "We start with a simple dataset (I used this one in SVM as well)."
   ]
  },
  {
   "cell_type": "code",
   "execution_count": 1,
   "metadata": {},
   "outputs": [
    {
     "name": "stderr",
     "output_type": "stream",
     "text": [
      "c:\\users\\linhl\\appdata\\local\\programs\\python\\python37\\lib\\importlib\\_bootstrap.py:219: RuntimeWarning: numpy.ufunc size changed, may indicate binary incompatibility. Expected 192 from C header, got 216 from PyObject\n",
      "  return f(*args, **kwds)\n",
      "c:\\users\\linhl\\appdata\\local\\programs\\python\\python37\\lib\\importlib\\_bootstrap.py:219: RuntimeWarning: numpy.ufunc size changed, may indicate binary incompatibility. Expected 192 from C header, got 216 from PyObject\n",
      "  return f(*args, **kwds)\n"
     ]
    }
   ],
   "source": [
    "import pandas as pd\n",
    "from matplotlib import pyplot as plt\n",
    "import numpy as np"
   ]
  },
  {
   "cell_type": "code",
   "execution_count": 30,
   "metadata": {},
   "outputs": [],
   "source": [
    "#create some instances \n",
    "X = np.array([\n",
    "    [1,1],\n",
    "    [1.5,2],\n",
    "    [2,1],\n",
    "    [1.41,1.41],\n",
    "    [1,2],\n",
    "    [1,3],\n",
    "    [3,3],\n",
    "    [3,5],\n",
    "    [3.5,2],\n",
    "    [3.6,3.2],\n",
    "    [3.1,3.5],\n",
    "    [2.5,4]\n",
    "])\n",
    "\n",
    "Y = np.array([0,0,0,0,0,0,1,1,1,1,1,1])"
   ]
  },
  {
   "cell_type": "code",
   "execution_count": 31,
   "metadata": {
    "scrolled": true
   },
   "outputs": [
    {
     "data": {
      "image/png": "[encoded data removed]",
      "text/plain": [
       "<Figure size 432x288 with 1 Axes>"
      ]
     },
     "metadata": {
      "needs_background": "light"
     },
     "output_type": "display_data"
    }
   ],
   "source": [
    "#and visualize them\n",
    "#colors will represent the two classes in this case\n",
    "plt.scatter(X[:,0], X[:,1], c=Y)\n",
    "plt.show()"
   ]
  },
  {
   "cell_type": "code",
   "execution_count": 32,
   "metadata": {},
   "outputs": [
    {
     "data": {
      "text/plain": [
       "DecisionTreeClassifier(ccp_alpha=0.0, class_weight=None, criterion='gini',\n",
       "                       max_depth=None, max_features=None, max_leaf_nodes=None,\n",
       "                       min_impurity_decrease=0.0, min_impurity_split=None,\n",
       "                       min_samples_leaf=1, min_samples_split=2,\n",
       "                       min_weight_fraction_leaf=0.0, presort='deprecated',\n",
       "                       random_state=None, splitter='best')"
      ]
     },
     "execution_count": 32,
     "metadata": {},
     "output_type": "execute_result"
    }
   ],
   "source": [
    "#now fit a decision tree\n",
    "from sklearn.tree import DecisionTreeClassifier\n",
    "\n",
    "dt = DecisionTreeClassifier()\n",
    "dt.fit(X,Y)"
   ]
  },
  {
   "cell_type": "markdown",
   "metadata": {},
   "source": [
    "We can visualize a tree in SKLearn very easily"
   ]
  },
  {
   "cell_type": "code",
   "execution_count": 33,
   "metadata": {},
   "outputs": [
    {
     "data": {
      "text/plain": [
       "[Text(167.4, 163.07999999999998, 'X[0] <= 2.25\\nsamples = 12\\nvalue = [6, 6]'),\n",
       " Text(83.7, 54.360000000000014, 'samples = 6\\nvalue = [6, 0]'),\n",
       " Text(251.10000000000002, 54.360000000000014, 'samples = 6\\nvalue = [0, 6]')]"
      ]
     },
     "execution_count": 33,
     "metadata": {},
     "output_type": "execute_result"
    },
    {
     "data": {
      "image/png": "[encoded data removed]",
      "text/plain": [
       "<Figure size 432x288 with 1 Axes>"
      ]
     },
     "metadata": {
      "needs_background": "light"
     },
     "output_type": "display_data"
    }
   ],
   "source": [
    "#we use the plot_tree() function from sklearn.tree\n",
    "from sklearn.tree import plot_tree\n",
    "\n",
    "#the function takes input as a trained decision tree\n",
    "plot_tree(dt, impurity=False)  #we set impurity to False to hide the impurity measurements of the nodes\n",
    "                               #-- since we did not discuss impurity measurements."
   ]
  },
  {
   "cell_type": "markdown",
   "metadata": {},
   "source": [
    "<h4> Applied on the Credit Approval Data </h4>\n",
    "\n",
    "Now let's try decision tree on the credit approval data. As usual, we preprocess the data first"
   ]
  },
  {
   "cell_type": "code",
   "execution_count": 37,
   "metadata": {},
   "outputs": [],
   "source": [
    "crx = pd.read_csv('crx.data', header=None)\n",
    "crx.head()\n",
    "\n",
    "Y = np.zeros(crx.shape[0])           #create a vector of zeros with size = the data\n",
    "Y[crx[15]=='+'] = 1                  #when the actual target is +, Y is assigned 1\n",
    "crx[15] = Y  \n",
    "\n",
    "from sklearn.model_selection import StratifiedShuffleSplit\n",
    "\n",
    "split = StratifiedShuffleSplit(n_splits=1, test_size=0.25, random_state=42)\n",
    "\n",
    "for train_index, test_index in split.split(crx, crx[15]):\n",
    "    strat_train_set = crx.loc[train_index]\n",
    "    strat_test_set = crx.loc[test_index]\n",
    "    \n",
    "trainX = strat_train_set.loc[:,:14]\n",
    "trainY = strat_train_set.loc[:,15]\n",
    "trainX.shape, trainY.shape\n",
    "\n",
    "from sklearn.pipeline import Pipeline\n",
    "from sklearn.impute import SimpleImputer\n",
    "from sklearn.preprocessing import StandardScaler\n",
    "from sklearn.preprocessing import FunctionTransformer\n",
    "\n",
    "num_cols = trainX.columns[(trainX.dtypes == np.int64) | (trainX.dtypes == np.float64)]\n",
    "\n",
    "num_pipeline = Pipeline([\n",
    "    ('impute', SimpleImputer(strategy='median')),\n",
    "    ('standardize', StandardScaler())\n",
    "])\n",
    "\n",
    "from sklearn.preprocessing import OneHotEncoder\n",
    "\n",
    "#get a list of class columns\n",
    "cat_cols = trainX.columns[trainX.dtypes==object]\n",
    "\n",
    "cat_pipeline = Pipeline([\n",
    "    ('impute', SimpleImputer(strategy='constant',fill_value='missing')),\n",
    "    ('encode', OneHotEncoder())\n",
    "])\n",
    "\n",
    "from sklearn.compose import ColumnTransformer\n",
    "\n",
    "full_pipeline = ColumnTransformer([\n",
    "    ('numeric', num_pipeline, num_cols),\n",
    "    ('class', cat_pipeline, cat_cols)\n",
    "])\n",
    "\n",
    "trainX_prc = full_pipeline.fit_transform(trainX)\n",
    "\n",
    "testX = strat_test_set.loc[:,:14]\n",
    "testY = strat_test_set.loc[:,15]\n",
    "\n",
    "testX_prc = full_pipeline.transform(testX)  "
   ]
  },
  {
   "cell_type": "markdown",
   "metadata": {},
   "source": [
    "Now finetune the tree. Decision tree is actually quite unstable - if you rerun the finetuning below multiple times, you may get different performances."
   ]
  },
  {
   "cell_type": "code",
   "execution_count": 57,
   "metadata": {},
   "outputs": [
    {
     "data": {
      "text/plain": [
       "GridSearchCV(cv=5, error_score=nan,\n",
       "             estimator=DecisionTreeClassifier(ccp_alpha=0.0, class_weight=None,\n",
       "                                              criterion='gini', max_depth=None,\n",
       "                                              max_features=None,\n",
       "                                              max_leaf_nodes=None,\n",
       "                                              min_impurity_decrease=0.0,\n",
       "                                              min_impurity_split=None,\n",
       "                                              min_samples_leaf=1,\n",
       "                                              min_samples_split=2,\n",
       "                                              min_weight_fraction_leaf=0.0,\n",
       "                                              presort='deprecated',\n",
       "                                              random_state=None,\n",
       "                                              splitter='best'),\n",
       "             iid='deprecated', n_jobs=None,\n",
       "             param_grid=[{'max_depth': [3, 4, 5, 6],\n",
       "                          'max_features': [5, 10, 15],\n",
       "                          'min_samples_leaf': [1, 10, 20, 30, 40],\n",
       "                          'min_samples_split': [2, 10, 20, 30, 40]}],\n",
       "             pre_dispatch='2*n_jobs', refit=True, return_train_score=True,\n",
       "             scoring='accuracy', verbose=0)"
      ]
     },
     "execution_count": 57,
     "metadata": {},
     "output_type": "execute_result"
    }
   ],
   "source": [
    "from sklearn.model_selection import GridSearchCV\n",
    "\n",
    "param_grid = [{\n",
    "    'max_depth': [3,4,5,6],\n",
    "    'max_features' : [5, 10, 15],\n",
    "    'min_samples_split' : [2, 10, 20, 30, 40],\n",
    "    'min_samples_leaf' : [1, 10, 20, 30, 40]\n",
    "}]\n",
    "\n",
    "dt = DecisionTreeClassifier()\n",
    "\n",
    "grid_search = GridSearchCV(dt, param_grid, cv=5, scoring='accuracy', return_train_score=True)\n",
    "\n",
    "grid_search.fit(trainX_prc,trainY)"
   ]
  },
  {
   "cell_type": "markdown",
   "metadata": {},
   "source": [
    "Best training model:"
   ]
  },
  {
   "cell_type": "code",
   "execution_count": 58,
   "metadata": {
    "scrolled": true
   },
   "outputs": [
    {
     "name": "stdout",
     "output_type": "stream",
     "text": [
      "{'max_depth': 3, 'max_features': 15, 'min_samples_leaf': 20, 'min_samples_split': 30}\n",
      "0.8587565347274084\n"
     ]
    }
   ],
   "source": [
    "print(grid_search.best_params_)\n",
    "print(grid_search.best_score_)"
   ]
  },
  {
   "cell_type": "code",
   "execution_count": 59,
   "metadata": {},
   "outputs": [
    {
     "data": {
      "text/plain": [
       "0.8670520231213873"
      ]
     },
     "execution_count": 59,
     "metadata": {},
     "output_type": "execute_result"
    }
   ],
   "source": [
    "best_dt = grid_search.best_estimator_\n",
    "best_dt.score(testX_prc, testY)"
   ]
  },
  {
   "cell_type": "markdown",
   "metadata": {},
   "source": [
    "Let's also visualize the tree. You can see, the tree actually uses only five features from the training data but still acquires a very high accuracy."
   ]
  },
  {
   "cell_type": "code",
   "execution_count": 60,
   "metadata": {},
   "outputs": [
    {
     "data": {
      "text/plain": [
       "[Text(558.0, 332.955, 'X[42] <= 0.5\\nsamples = 517\\nvalue = [287, 230]'),\n",
       " Text(279.0, 237.825, 'X[4] <= -0.555\\nsamples = 270\\nvalue = [62, 208]'),\n",
       " Text(139.5, 142.695, 'X[3] <= -0.395\\nsamples = 94\\nvalue = [8, 86]'),\n",
       " Text(69.75, 47.565, 'samples = 22\\nvalue = [7, 15]'),\n",
       " Text(209.25, 47.565, 'samples = 72\\nvalue = [1, 71]'),\n",
       " Text(418.5, 142.695, 'X[44] <= 0.5\\nsamples = 176\\nvalue = [54, 122]'),\n",
       " Text(348.75, 47.565, 'samples = 105\\nvalue = [14, 91]'),\n",
       " Text(488.25, 47.565, 'samples = 71\\nvalue = [40, 31]'),\n",
       " Text(837.0, 237.825, 'X[2] <= -0.229\\nsamples = 247\\nvalue = [225, 22]'),\n",
       " Text(697.5, 142.695, 'X[4] <= 0.657\\nsamples = 192\\nvalue = [179, 13]'),\n",
       " Text(627.75, 47.565, 'samples = 157\\nvalue = [149, 8]'),\n",
       " Text(767.25, 47.565, 'samples = 35\\nvalue = [30, 5]'),\n",
       " Text(976.5, 142.695, 'X[5] <= -0.188\\nsamples = 55\\nvalue = [46, 9]'),\n",
       " Text(906.75, 47.565, 'samples = 23\\nvalue = [16, 7]'),\n",
       " Text(1046.25, 47.565, 'samples = 32\\nvalue = [30, 2]')]"
      ]
     },
     "execution_count": 60,
     "metadata": {},
     "output_type": "execute_result"
    },
    {
     "data": {
      "image/png": "[encoded data removed]",
      "text/plain": [
       "<Figure size 1440x504 with 1 Axes>"
      ]
     },
     "metadata": {
      "needs_background": "light"
     },
     "output_type": "display_data"
    }
   ],
   "source": [
    "plt.figure(figsize=(20,7)) #setting figure size\n",
    "plot_tree(best_dt, impurity=False) "
   ]
  },
  {
   "cell_type": "markdown",
   "metadata": {},
   "source": [
    "<h4>Summarize all Results</h4>\n",
    "\n",
    "Compared to other models so far:\n",
    "\n",
    "|Model|Training CV Accuracy| Testing Accuracy|\n",
    "|-----|--------------------|-----------------|\n",
    "|No Regularization|0.834|0.850|\n",
    "|L2 Regularization|0.857|0.861|\n",
    "|L1 Regularization|0.861|0.861|\n",
    "|ENet Regularization|0.863|0.861|\n",
    "|L1 Linear SVM|0.851|0.861|\n",
    "|L2 Linear SVM|0.853|0.873|\n",
    "|Kernel SVM|0.872|0.867|\n",
    "|Decision Tree|0.858|0.867|\n",
    "\n",
    "As you can see, decision tree' performance is quite good while using very low number of features."
   ]
  },
  {
   "cell_type": "markdown",
   "metadata": {},
   "source": [
    "<h3> For Regression </h3>\n",
    "\n",
    "Decision tree also works for regression tasks. We will use DecisionTreeRegressor instead. Let's revisit the auto-mpg data"
   ]
  },
  {
   "cell_type": "code",
   "execution_count": 61,
   "metadata": {},
   "outputs": [
    {
     "data": {
      "text/plain": [
       "((298, 7), (100, 7), (298,), (100,))"
      ]
     },
     "execution_count": 61,
     "metadata": {},
     "output_type": "execute_result"
    }
   ],
   "source": [
    "auto = pd.read_csv('auto-mpg.csv')\n",
    "\n",
    "from sklearn.model_selection import ShuffleSplit\n",
    "\n",
    "split = ShuffleSplit(n_splits=1, test_size=0.25, random_state=42)\n",
    "\n",
    "for train_index, test_index in split.split(auto):\n",
    "    train_set = auto.loc[train_index]\n",
    "    test_set = auto.loc[test_index]\n",
    "    \n",
    "trainX = train_set.drop('mpg',axis=1)\n",
    "trainY = train_set['mpg']\n",
    "testX = test_set.drop('mpg',axis=1)\n",
    "testY = test_set['mpg']\n",
    "\n",
    "trainX.shape, testX.shape, trainY.shape, testY.shape"
   ]
  },
  {
   "cell_type": "code",
   "execution_count": 63,
   "metadata": {},
   "outputs": [
    {
     "data": {
      "text/plain": [
       "(298, 9)"
      ]
     },
     "execution_count": 63,
     "metadata": {},
     "output_type": "execute_result"
    }
   ],
   "source": [
    "#pipeline for numeric features\n",
    "#we need to impute horsepower\n",
    "num_cols = trainX.columns[:-1] #because the last column is class\n",
    "num_pipeline = Pipeline([\n",
    "    ('impute', SimpleImputer(strategy='median')),\n",
    "    ('standardize', StandardScaler())\n",
    "])\n",
    "\n",
    "#pipeline for class features\n",
    "cat_cols = trainX.columns[-1:] #because the last column is class\n",
    "cat_pipeline = Pipeline([\n",
    "    ('encoder', OneHotEncoder())\n",
    "])\n",
    "\n",
    "#full pipeline - combine numeric and class pipelines\n",
    "full_pipeline = ColumnTransformer([\n",
    "    ('numeric', num_pipeline, num_cols),\n",
    "    ('class', cat_pipeline, cat_cols)\n",
    "])\n",
    "\n",
    "trainX_prc = full_pipeline.fit_transform(trainX)\n",
    "testX_prc = full_pipeline.transform(testX)\n",
    "\n",
    "trainX_prc.shape"
   ]
  },
  {
   "cell_type": "code",
   "execution_count": 73,
   "metadata": {},
   "outputs": [
    {
     "data": {
      "text/plain": [
       "GridSearchCV(cv=5, error_score=nan,\n",
       "             estimator=DecisionTreeRegressor(ccp_alpha=0.0, criterion='mse',\n",
       "                                             max_depth=None, max_features=None,\n",
       "                                             max_leaf_nodes=None,\n",
       "                                             min_impurity_decrease=0.0,\n",
       "                                             min_impurity_split=None,\n",
       "                                             min_samples_leaf=1,\n",
       "                                             min_samples_split=2,\n",
       "                                             min_weight_fraction_leaf=0.0,\n",
       "                                             presort='deprecated',\n",
       "                                             random_state=None,\n",
       "                                             splitter='best'),\n",
       "             iid='deprecated', n_jobs=None,\n",
       "             param_grid=[{'max_depth': [3, 4, 5, 6], 'max_features': [5, 7, 9],\n",
       "                          'min_samples_leaf': [1, 10, 20, 30, 40],\n",
       "                          'min_samples_split': [2, 10, 20, 30, 40]}],\n",
       "             pre_dispatch='2*n_jobs', refit=True, return_train_score=True,\n",
       "             scoring='r2', verbose=0)"
      ]
     },
     "execution_count": 73,
     "metadata": {},
     "output_type": "execute_result"
    }
   ],
   "source": [
    "from sklearn.tree import DecisionTreeRegressor\n",
    "\n",
    "dtr = DecisionTreeRegressor()\n",
    "\n",
    "param_grid = [{\n",
    "    'max_depth': [3,4,5,6],\n",
    "    'max_features' : [5, 7, 9],\n",
    "    'min_samples_split' : [2, 10, 20, 30, 40],\n",
    "    'min_samples_leaf' : [1, 10, 20, 30, 40]\n",
    "}]\n",
    "\n",
    "grid_search = GridSearchCV(dtr, param_grid, cv=5, scoring='r2', return_train_score=True)\n",
    "\n",
    "grid_search.fit(trainX_prc,trainY)"
   ]
  },
  {
   "cell_type": "code",
   "execution_count": 74,
   "metadata": {
    "scrolled": true
   },
   "outputs": [
    {
     "name": "stdout",
     "output_type": "stream",
     "text": [
      "{'max_depth': 6, 'max_features': 7, 'min_samples_leaf': 10, 'min_samples_split': 2}\n",
      "0.8226408284573348\n"
     ]
    }
   ],
   "source": [
    "print(grid_search.best_params_)\n",
    "print(grid_search.best_score_)"
   ]
  },
  {
   "cell_type": "code",
   "execution_count": 75,
   "metadata": {},
   "outputs": [
    {
     "data": {
      "text/plain": [
       "0.8665069075280036"
      ]
     },
     "execution_count": 75,
     "metadata": {},
     "output_type": "execute_result"
    }
   ],
   "source": [
    "best_dt = grid_search.best_estimator_\n",
    "best_dt.score(testX_prc, testY)"
   ]
  },
  {
   "cell_type": "markdown",
   "metadata": {},
   "source": [
    "You can also visualize the tree if you like. I would leave that for practice. Finally, we can summarize the results of all models so far\n",
    "\n",
    "|Model|Training CV R2| Testing R2|\n",
    "|-----|--------------|-----------|\n",
    "|Ridge|0.852         |0.893      |\n",
    "|LASSO|0.851         |0.895      |\n",
    "|ENet |0.851         |0.895      |\n",
    "|SVR  |0.864         |0.905      |\n",
    "|DTR  |0.823         |0.867      |\n",
    "\n",
    "In this data, decision tree is not a very good model. Its performance is the lowest in both CV training and testing.\n",
    "\n",
    "In general, decision tree can be very powerful, but also more difficult to use because of the overfitting and stability problem. For that reason, we usually prefer random forest models."
   ]
  }
 ],
 "metadata": {
  "kernelspec": {
   "display_name": "Python 3",
   "language": "python",
   "name": "python3"
  },
  "language_info": {
   "codemirror_mode": {
    "name": "ipython",
    "version": 3
   },
   "file_extension": ".py",
   "mimetype": "text/x-python",
   "name": "python",
   "nbconvert_exporter": "python",
   "pygments_lexer": "ipython3",
   "version": "3.7.6"
  }
 },
 "nbformat": 4,
 "nbformat_minor": 2
}
