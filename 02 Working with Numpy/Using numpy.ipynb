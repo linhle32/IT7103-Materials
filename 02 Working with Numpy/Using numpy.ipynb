{
 "cells": [
  {
   "cell_type": "markdown",
   "id": "706a46f9",
   "metadata": {},
   "source": [
    "<h2> Python Review and Numpy </h2>\n",
    "\n",
    "In this module, we review important concepts in Python programming and discuss Numpy on tasks like slicing and data transformation.\n",
    "\n",
    "The first important concept is a Python list.\n",
    "\n",
    "<h3> Python List </h3>\n",
    "\n",
    "A Python data type that can be used to store a collection of items. Lists provide basic operations like indexing, slicing."
   ]
  },
  {
   "cell_type": "code",
   "execution_count": 1,
   "id": "93a99fd7",
   "metadata": {},
   "outputs": [
    {
     "name": "stdout",
     "output_type": "stream",
     "text": [
      "[1, 5, 8, 1, 4, 9]\n",
      "<class 'list'>\n"
     ]
    }
   ],
   "source": [
    "a_list = [1,5,8,1,4,9]\n",
    "print(a_list)\n",
    "print(type(a_list))"
   ]
  },
  {
   "cell_type": "markdown",
   "id": "3aedd7e7",
   "metadata": {},
   "source": [
    "We can use indexes to access items in lists, specifically, with the syntax\n",
    "\n",
    "$list\\_name[item\\_index]$\n",
    "\n",
    "We will obtain the item at the position <i>item_index</i>. Index in Python starts from <b>0</b>, so the first item in a list is $list[0]$, 2nd item is $list[1]$, 3rd item is $list[2]$, and so on"
   ]
  },
  {
   "cell_type": "code",
   "execution_count": 2,
   "id": "ac8269dc",
   "metadata": {},
   "outputs": [
    {
     "data": {
      "text/plain": [
       "1"
      ]
     },
     "execution_count": 2,
     "metadata": {},
     "output_type": "execute_result"
    }
   ],
   "source": [
    "a_list[0]"
   ]
  },
  {
   "cell_type": "code",
   "execution_count": 3,
   "id": "323a783e",
   "metadata": {},
   "outputs": [
    {
     "data": {
      "text/plain": [
       "4"
      ]
     },
     "execution_count": 3,
     "metadata": {},
     "output_type": "execute_result"
    }
   ],
   "source": [
    "a_list[4]"
   ]
  },
  {
   "cell_type": "markdown",
   "id": "07eec8bf",
   "metadata": {},
   "source": [
    "index can be negative, in such case, they will be counted from <b>the end</b> of the list. Negative indexes start from -1. So, the last item in a list is list[-1], 2nd last is list[-2], 3rd last is list[-3], and so on. For example"
   ]
  },
  {
   "cell_type": "code",
   "execution_count": 4,
   "id": "d23d0c28",
   "metadata": {},
   "outputs": [
    {
     "data": {
      "text/plain": [
       "9"
      ]
     },
     "execution_count": 4,
     "metadata": {},
     "output_type": "execute_result"
    }
   ],
   "source": [
    "a_list[-1]"
   ]
  },
  {
   "cell_type": "markdown",
   "id": "c71c8d06",
   "metadata": {},
   "source": [
    "Slicing a list gives us a subset of the current list. We slice lists with the <b>:</b> operator. The syntax is\n",
    "\n",
    "$list[start\\_index:end\\_index:step]$\n",
    "\n",
    "The sublist starts at the <b>start_index</b> and ends at the <b>end_index - 1</b>, and the indices increment/decrement by the given <b>step</b>. Any fields can be omitted which makes Python uses the default values of 0/-1 for start and end, and 1 for step"
   ]
  },
  {
   "cell_type": "code",
   "execution_count": 5,
   "id": "4cce44af",
   "metadata": {},
   "outputs": [
    {
     "data": {
      "text/plain": [
       "[5, 8, 1, 4]"
      ]
     },
     "execution_count": 5,
     "metadata": {},
     "output_type": "execute_result"
    }
   ],
   "source": [
    "a_list[1:-1]"
   ]
  },
  {
   "cell_type": "code",
   "execution_count": 6,
   "id": "1a082195",
   "metadata": {},
   "outputs": [
    {
     "data": {
      "text/plain": [
       "[5, 1]"
      ]
     },
     "execution_count": 6,
     "metadata": {},
     "output_type": "execute_result"
    }
   ],
   "source": [
    "a_list[1:5:2]"
   ]
  },
  {
   "cell_type": "markdown",
   "id": "61d75480",
   "metadata": {},
   "source": [
    "Lists can have multiple levels. A two-level list is also called a 2D list, and is similar to the tabular data representation"
   ]
  },
  {
   "cell_type": "code",
   "execution_count": 6,
   "id": "c9d41d92",
   "metadata": {},
   "outputs": [
    {
     "name": "stdout",
     "output_type": "stream",
     "text": [
      "[100320, 36, 5, 110000]\n",
      "[132201, 30, 3, 105000]\n",
      "[100212, 45, 12, 133000]\n",
      "[143695, 27, 1, 80000]\n"
     ]
    }
   ],
   "source": [
    "employees = [\n",
    "    [100320,36,5,110000],\n",
    "    [132201,30,3,105000],\n",
    "    [100212,45,12,133000],\n",
    "    [143695,27,1,80000]\n",
    "]\n",
    "\n",
    "for employee in employees:\n",
    "    print(employee)"
   ]
  },
  {
   "cell_type": "markdown",
   "id": "76bf4e39",
   "metadata": {},
   "source": [
    "Extracting rows from a 2D list is simply enough with indexing or slicing"
   ]
  },
  {
   "cell_type": "code",
   "execution_count": 8,
   "id": "cc718e48",
   "metadata": {},
   "outputs": [
    {
     "data": {
      "text/plain": [
       "[132201, 30, 3, 95, 105000]"
      ]
     },
     "execution_count": 8,
     "metadata": {},
     "output_type": "execute_result"
    }
   ],
   "source": [
    "data_list[1]"
   ]
  },
  {
   "cell_type": "code",
   "execution_count": 9,
   "id": "e4c04331",
   "metadata": {},
   "outputs": [
    {
     "data": {
      "text/plain": [
       "[[132201, 30, 3, 95, 105000], [100212, 45, 12, 95, 133000]]"
      ]
     },
     "execution_count": 9,
     "metadata": {},
     "output_type": "execute_result"
    }
   ],
   "source": [
    "data_list[1:-1]"
   ]
  },
  {
   "cell_type": "markdown",
   "id": "8e9f92ed",
   "metadata": {},
   "source": [
    "However, extracting columns is more complicated"
   ]
  },
  {
   "cell_type": "code",
   "execution_count": 4,
   "id": "7323f775",
   "metadata": {},
   "outputs": [
    {
     "name": "stdout",
     "output_type": "stream",
     "text": [
      "[36, 30, 45, 27]\n"
     ]
    }
   ],
   "source": [
    "age = []\n",
    "\n",
    "for row in data_list:\n",
    "    age.append(row[1])\n",
    "\n",
    "print(age)"
   ]
  },
  {
   "cell_type": "code",
   "execution_count": 5,
   "id": "8aeb1cab",
   "metadata": {},
   "outputs": [
    {
     "data": {
      "text/plain": [
       "34.5"
      ]
     },
     "execution_count": 5,
     "metadata": {},
     "output_type": "execute_result"
    }
   ],
   "source": [
    "sum(age) / len(age)"
   ]
  },
  {
   "cell_type": "markdown",
   "id": "00164f53",
   "metadata": {},
   "source": [
    "Overall, the use of a list for data storing and manipulation is not ideal. We can use objects from Numpy and Pandas. While Pandas is more tailored towards datasets manipulation, Numpy is more basic. We will discuss Pandas in the next module."
   ]
  },
  {
   "cell_type": "markdown",
   "id": "af0ff2e0",
   "metadata": {},
   "source": [
    "<h3> Numpy Arrays </h3>\n",
    "\n",
    "Is a Python package for numerical manipulation. Numpy is widely used in data analytics since a lot of times it is simpler to use and more flexible than Pandas.\n",
    "\n",
    "Numpy is an external library, so we have to install it first. In each Python session, we need to import numpy before using"
   ]
  },
  {
   "cell_type": "code",
   "execution_count": 8,
   "id": "42c30d82",
   "metadata": {},
   "outputs": [],
   "source": [
    "import numpy as np"
   ]
  },
  {
   "cell_type": "markdown",
   "id": "d41af25a",
   "metadata": {},
   "source": [
    "A numpy array is fairly similar to a list. It is however much more robust in terms of indexing, slicing, and numerical computation. We can use numpy.array() to generate a new array"
   ]
  },
  {
   "cell_type": "code",
   "execution_count": 10,
   "id": "7b44e2cb",
   "metadata": {},
   "outputs": [
    {
     "data": {
      "text/plain": [
       "array([[100320,     36,      5, 110000],\n",
       "       [132201,     30,      3, 105000],\n",
       "       [100212,     45,     12, 133000],\n",
       "       [143695,     27,      1,  80000]])"
      ]
     },
     "execution_count": 10,
     "metadata": {},
     "output_type": "execute_result"
    }
   ],
   "source": [
    "employees = np.array([\n",
    "    [100320,36,5,110000],\n",
    "    [132201,30,3,105000],\n",
    "    [100212,45,12,133000],\n",
    "    [143695,27,1,80000]\n",
    "])\n",
    "\n",
    "employees"
   ]
  },
  {
   "cell_type": "markdown",
   "id": "fb7c281f",
   "metadata": {},
   "source": [
    "Or if the data is stored in a text file"
   ]
  },
  {
   "cell_type": "code",
   "execution_count": 13,
   "id": "632d01d1",
   "metadata": {},
   "outputs": [
    {
     "data": {
      "text/plain": [
       "array([[1.00320e+05, 3.60000e+01, 5.00000e+00, 9.70000e+01, 1.10000e+05],\n",
       "       [1.32201e+05, 3.00000e+01, 3.00000e+00, 9.50000e+01, 1.05000e+05],\n",
       "       [1.00212e+05, 4.50000e+01, 1.20000e+01, 9.50000e+01, 1.33000e+05],\n",
       "       [1.43695e+05, 2.70000e+01, 1.00000e+00, 9.00000e+01, 8.00000e+04]])"
      ]
     },
     "execution_count": 13,
     "metadata": {},
     "output_type": "execute_result"
    }
   ],
   "source": [
    "data = np.loadtxt('employee_data.txt')\n",
    "data"
   ]
  },
  {
   "cell_type": "markdown",
   "id": "a1411004",
   "metadata": {},
   "source": [
    "we can change the array data type with dtype argument"
   ]
  },
  {
   "cell_type": "code",
   "execution_count": 14,
   "id": "aad27fe8",
   "metadata": {},
   "outputs": [
    {
     "data": {
      "text/plain": [
       "array([[100320,     36,      5,     97, 110000],\n",
       "       [132201,     30,      3,     95, 105000],\n",
       "       [100212,     45,     12,     95, 133000],\n",
       "       [143695,     27,      1,     90,  80000]])"
      ]
     },
     "execution_count": 14,
     "metadata": {},
     "output_type": "execute_result"
    }
   ],
   "source": [
    "data = np.loadtxt('employee_data.txt',dtype=np.int32)\n",
    "data"
   ]
  },
  {
   "cell_type": "markdown",
   "id": "7861dc1c",
   "metadata": {},
   "source": [
    "The shape attributes give the numbers of rows and columns"
   ]
  },
  {
   "cell_type": "code",
   "execution_count": 12,
   "id": "67108bc3",
   "metadata": {},
   "outputs": [
    {
     "data": {
      "text/plain": [
       "(4, 4)"
      ]
     },
     "execution_count": 12,
     "metadata": {},
     "output_type": "execute_result"
    }
   ],
   "source": [
    "employees.shape"
   ]
  },
  {
   "cell_type": "markdown",
   "id": "c1fa3d9d",
   "metadata": {},
   "source": [
    "rows and columns can now be extracted using indexing and slicing"
   ]
  },
  {
   "cell_type": "code",
   "execution_count": null,
   "id": "7623f830",
   "metadata": {},
   "outputs": [],
   "source": [
    "array[<row slice>, <column slice>]"
   ]
  },
  {
   "cell_type": "code",
   "execution_count": 13,
   "id": "e59283ad",
   "metadata": {},
   "outputs": [
    {
     "data": {
      "text/plain": [
       "array([100320,     36,      5, 110000])"
      ]
     },
     "execution_count": 13,
     "metadata": {},
     "output_type": "execute_result"
    }
   ],
   "source": [
    "employees[0]"
   ]
  },
  {
   "cell_type": "code",
   "execution_count": 14,
   "id": "c86e3072",
   "metadata": {},
   "outputs": [
    {
     "data": {
      "text/plain": [
       "array([[100320,     36,      5, 110000],\n",
       "       [143695,     27,      1,  80000]])"
      ]
     },
     "execution_count": 14,
     "metadata": {},
     "output_type": "execute_result"
    }
   ],
   "source": [
    "employees[[0,3]]"
   ]
  },
  {
   "cell_type": "markdown",
   "id": "1c262505",
   "metadata": {},
   "source": [
    "To add a selection for column, add another set of index/slice to the bracket, separated with the first set by \",\""
   ]
  },
  {
   "cell_type": "code",
   "execution_count": 15,
   "id": "cc5f436d",
   "metadata": {},
   "outputs": [
    {
     "data": {
      "text/plain": [
       "array([100320, 132201, 100212, 143695])"
      ]
     },
     "execution_count": 15,
     "metadata": {},
     "output_type": "execute_result"
    }
   ],
   "source": [
    "employees[:,0]"
   ]
  },
  {
   "cell_type": "code",
   "execution_count": 16,
   "id": "411baa24",
   "metadata": {},
   "outputs": [
    {
     "data": {
      "text/plain": [
       "array([[    36, 110000],\n",
       "       [    30, 105000],\n",
       "       [    45, 133000],\n",
       "       [    27,  80000]])"
      ]
     },
     "execution_count": 16,
     "metadata": {},
     "output_type": "execute_result"
    }
   ],
   "source": [
    "employees[:,[1,3]]"
   ]
  },
  {
   "cell_type": "markdown",
   "id": "62201743",
   "metadata": {},
   "source": [
    "We can combine both index system to filter both rows and columns"
   ]
  },
  {
   "cell_type": "code",
   "execution_count": 17,
   "id": "bf0d34f5",
   "metadata": {},
   "outputs": [
    {
     "data": {
      "text/plain": [
       "array([[    36, 110000],\n",
       "       [    30, 105000],\n",
       "       [    45, 133000]])"
      ]
     },
     "execution_count": 17,
     "metadata": {},
     "output_type": "execute_result"
    }
   ],
   "source": [
    "employees[:3,[1,3]]"
   ]
  },
  {
   "cell_type": "markdown",
   "id": "23d85547",
   "metadata": {},
   "source": [
    "We can even filter rows/columns by conditions"
   ]
  },
  {
   "cell_type": "code",
   "execution_count": 18,
   "id": "58159750",
   "metadata": {},
   "outputs": [
    {
     "data": {
      "text/plain": [
       "array([[100320,     36,      5, 110000],\n",
       "       [100212,     45,     12, 133000]])"
      ]
     },
     "execution_count": 18,
     "metadata": {},
     "output_type": "execute_result"
    }
   ],
   "source": [
    "employees[employees[:,1] > 30]  #rows in which age (2nd column) > 30"
   ]
  },
  {
   "cell_type": "code",
   "execution_count": 19,
   "id": "f024313c",
   "metadata": {},
   "outputs": [
    {
     "data": {
      "text/plain": [
       "array([[132201,     30,      3, 105000],\n",
       "       [143695,     27,      1,  80000]])"
      ]
     },
     "execution_count": 19,
     "metadata": {},
     "output_type": "execute_result"
    }
   ],
   "source": [
    "employees[employees[:,-1] < 110000]  #rows in which salary (last column) < 110000"
   ]
  },
  {
   "cell_type": "markdown",
   "id": "eabaeadd",
   "metadata": {},
   "source": [
    "Operations with single numbers are applied to the whole array"
   ]
  },
  {
   "cell_type": "code",
   "execution_count": 20,
   "id": "2add14c2",
   "metadata": {},
   "outputs": [
    {
     "data": {
      "text/plain": [
       "array([[100322,     38,      7, 110002],\n",
       "       [132203,     32,      5, 105002],\n",
       "       [100214,     47,     14, 133002],\n",
       "       [143697,     29,      3,  80002]])"
      ]
     },
     "execution_count": 20,
     "metadata": {},
     "output_type": "execute_result"
    }
   ],
   "source": [
    "employees + 2"
   ]
  },
  {
   "cell_type": "code",
   "execution_count": 21,
   "id": "904a98bb",
   "metadata": {},
   "outputs": [
    {
     "data": {
      "text/plain": [
       "array([[5.01600e+04, 1.80000e+01, 2.50000e+00, 5.50000e+04],\n",
       "       [6.61005e+04, 1.50000e+01, 1.50000e+00, 5.25000e+04],\n",
       "       [5.01060e+04, 2.25000e+01, 6.00000e+00, 6.65000e+04],\n",
       "       [7.18475e+04, 1.35000e+01, 5.00000e-01, 4.00000e+04]])"
      ]
     },
     "execution_count": 21,
     "metadata": {},
     "output_type": "execute_result"
    }
   ],
   "source": [
    "employees / 2"
   ]
  },
  {
   "cell_type": "markdown",
   "id": "0e2c3ae2",
   "metadata": {},
   "source": [
    "Or we can slice a subset to transform"
   ]
  },
  {
   "cell_type": "code",
   "execution_count": 23,
   "id": "057a6c57",
   "metadata": {},
   "outputs": [
    {
     "data": {
      "text/plain": [
       "array([[100320,     26,     10, 110000],\n",
       "       [132201,     20,      6, 105000],\n",
       "       [100212,     35,     24, 133000],\n",
       "       [143695,     17,      2,  80000]])"
      ]
     },
     "execution_count": 23,
     "metadata": {},
     "output_type": "execute_result"
    }
   ],
   "source": [
    "employees[:,1] = employees[:,1] - 10\n",
    "employees[:,2] = employees[:,2] * 2\n",
    "employees"
   ]
  },
  {
   "cell_type": "markdown",
   "id": "8aa52eed",
   "metadata": {},
   "source": [
    "Numpy comes with numerous math functions that are useful for creating new features in data"
   ]
  },
  {
   "cell_type": "code",
   "execution_count": 22,
   "id": "2978ddf4",
   "metadata": {},
   "outputs": [
    {
     "data": {
      "text/plain": [
       "array([[11.51612036,  3.58351894,  1.60943791, 11.60823564],\n",
       "       [11.79207877,  3.40119738,  1.09861229, 11.56171563],\n",
       "       [11.51504322,  3.80666249,  2.48490665, 11.79810441],\n",
       "       [11.87544828,  3.29583687,  0.        , 11.28978191]])"
      ]
     },
     "execution_count": 22,
     "metadata": {},
     "output_type": "execute_result"
    }
   ],
   "source": [
    "np.log(employees)"
   ]
  },
  {
   "cell_type": "code",
   "execution_count": 24,
   "id": "785f1a4f",
   "metadata": {
    "scrolled": true
   },
   "outputs": [
    {
     "data": {
      "text/plain": [
       "array([2.20264658e+04, 4.03428793e+02, 2.64891221e+10, 7.38905610e+00])"
      ]
     },
     "execution_count": 24,
     "metadata": {},
     "output_type": "execute_result"
    }
   ],
   "source": [
    "np.exp(employees[:,2])"
   ]
  },
  {
   "cell_type": "markdown",
   "id": "61374a32",
   "metadata": {},
   "source": [
    "Creating a log versions of the data is fairly common and can be done fairly simple with numpy"
   ]
  },
  {
   "cell_type": "code",
   "execution_count": 28,
   "id": "dcab6c21",
   "metadata": {},
   "outputs": [
    {
     "data": {
      "text/plain": [
       "array([3.25809654, 2.99573227, 3.55534806, 2.83321334])"
      ]
     },
     "execution_count": 28,
     "metadata": {},
     "output_type": "execute_result"
    }
   ],
   "source": [
    "log_age = np.log(data[:,1])\n",
    "log_age"
   ]
  },
  {
   "cell_type": "code",
   "execution_count": 29,
   "id": "7d860594",
   "metadata": {},
   "outputs": [
    {
     "data": {
      "text/plain": [
       "array([[1.00320000e+05, 2.60000000e+01, 1.00000000e+01, 9.70000000e+01,\n",
       "        1.10000000e+05, 1.15161204e+01, 3.25809654e+00, 2.30258509e+00,\n",
       "        4.57471098e+00, 1.16082356e+01],\n",
       "       [1.32201000e+05, 2.00000000e+01, 6.00000000e+00, 9.50000000e+01,\n",
       "        1.05000000e+05, 1.17920788e+01, 2.99573227e+00, 1.79175947e+00,\n",
       "        4.55387689e+00, 1.15617156e+01],\n",
       "       [1.00212000e+05, 3.50000000e+01, 2.40000000e+01, 9.50000000e+01,\n",
       "        1.33000000e+05, 1.15150432e+01, 3.55534806e+00, 3.17805383e+00,\n",
       "        4.55387689e+00, 1.17981044e+01],\n",
       "       [1.43695000e+05, 1.70000000e+01, 2.00000000e+00, 9.00000000e+01,\n",
       "        8.00000000e+04, 1.18754483e+01, 2.83321334e+00, 6.93147181e-01,\n",
       "        4.49980967e+00, 1.12897819e+01]])"
      ]
     },
     "execution_count": 29,
     "metadata": {},
     "output_type": "execute_result"
    }
   ],
   "source": [
    "log_data = np.log(data) #creating a log version of the whole data set\n",
    "data_with_log = np.hstack([data, log_data]) #vertical concatenation of the original and the log versions\n",
    "data_with_log"
   ]
  },
  {
   "cell_type": "markdown",
   "id": "953dd3ad",
   "metadata": {},
   "source": [
    "hstack concatenates data horizontally. Numpy also has vstack function which combines data vertically. This is useful to combine data from multiple sources, though you have to make very sure that the columns are exactly the same in all data sources before combining them."
   ]
  },
  {
   "cell_type": "code",
   "execution_count": 30,
   "id": "a937b5be",
   "metadata": {},
   "outputs": [
    {
     "data": {
      "text/plain": [
       "array([[115452,     26,      4,     92, 100000],\n",
       "       [164201,     25,      1,     91,  95000],\n",
       "       [105265,     65,     22,     91, 143000],\n",
       "       [113151,     47,     10,     96, 180000]])"
      ]
     },
     "execution_count": 30,
     "metadata": {},
     "output_type": "execute_result"
    }
   ],
   "source": [
    "data2 = np.loadtxt('employee_data_more.txt', dtype=np.int32)\n",
    "data2"
   ]
  },
  {
   "cell_type": "code",
   "execution_count": 31,
   "id": "8d9dff3b",
   "metadata": {},
   "outputs": [
    {
     "data": {
      "text/plain": [
       "array([[100320,     26,     10,     97, 110000],\n",
       "       [132201,     20,      6,     95, 105000],\n",
       "       [100212,     35,     24,     95, 133000],\n",
       "       [143695,     17,      2,     90,  80000],\n",
       "       [115452,     26,      4,     92, 100000],\n",
       "       [164201,     25,      1,     91,  95000],\n",
       "       [105265,     65,     22,     91, 143000],\n",
       "       [113151,     47,     10,     96, 180000]])"
      ]
     },
     "execution_count": 31,
     "metadata": {},
     "output_type": "execute_result"
    }
   ],
   "source": [
    "merged_data = np.vstack([data,data2])\n",
    "merged_data"
   ]
  },
  {
   "cell_type": "markdown",
   "id": "f0a22b53",
   "metadata": {},
   "source": [
    "Simple statistics like mean, standard deviation, sum, min, max... are available. You can either slice the data to obtain the statistics for specific columns, or apply it on the whole dataset (but remember to set axis=0 to obtain those statistics for each column)"
   ]
  },
  {
   "cell_type": "code",
   "execution_count": 32,
   "id": "b4afb67c",
   "metadata": {},
   "outputs": [
    {
     "data": {
      "text/plain": [
       "(32.625, 15.041089554949137)"
      ]
     },
     "execution_count": 32,
     "metadata": {},
     "output_type": "execute_result"
    }
   ],
   "source": [
    "merged_data[:,1].mean(), merged_data[:,1].std()"
   ]
  },
  {
   "cell_type": "code",
   "execution_count": 33,
   "id": "620567d1",
   "metadata": {},
   "outputs": [
    {
     "data": {
      "text/plain": [
       "(1, 24)"
      ]
     },
     "execution_count": 33,
     "metadata": {},
     "output_type": "execute_result"
    }
   ],
   "source": [
    "merged_data[:,2].min(), merged_data[:,2].max()"
   ]
  },
  {
   "cell_type": "code",
   "execution_count": 34,
   "id": "ab93ce67",
   "metadata": {},
   "outputs": [
    {
     "data": {
      "text/plain": [
       "(array([1.21812125e+05, 3.26250000e+01, 9.87500000e+00, 9.33750000e+01,\n",
       "        1.18250000e+05]),\n",
       " array([2.15097540e+04, 1.50410896e+01, 8.19203119e+00, 2.49687304e+00,\n",
       "        3.00489184e+04]))"
      ]
     },
     "execution_count": 34,
     "metadata": {},
     "output_type": "execute_result"
    }
   ],
   "source": [
    "merged_data.mean(axis=0), merged_data.std(axis=0)"
   ]
  },
  {
   "cell_type": "markdown",
   "id": "ed2d4acf",
   "metadata": {},
   "source": [
    "Final note: numpy, while powerful, is quite basic and user-unfriendly for data analytics project. It fits more with datasets that are fairly clean and require less preliminary analysis and data transformation. Next week, we will discuss Pandas which is far more friendly to analytics users. Nevertheless, efficiently using numpy is very important and contributes greatly to understanding Pandas."
   ]
  }
 ],
 "metadata": {
  "kernelspec": {
   "display_name": "Python 3 (ipykernel)",
   "language": "python",
   "name": "python3"
  },
  "language_info": {
   "codemirror_mode": {
    "name": "ipython",
    "version": 3
   },
   "file_extension": ".py",
   "mimetype": "text/x-python",
   "name": "python",
   "nbconvert_exporter": "python",
   "pygments_lexer": "ipython3",
   "version": "3.9.12"
  }
 },
 "nbformat": 4,
 "nbformat_minor": 5
}
