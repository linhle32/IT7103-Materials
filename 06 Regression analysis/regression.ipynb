{
 "cells": [
  {
   "cell_type": "code",
   "execution_count": 1,
   "metadata": {},
   "outputs": [],
   "source": [
    "import pandas as pd\n",
    "import numpy as np"
   ]
  },
  {
   "cell_type": "markdown",
   "metadata": {},
   "source": [
    "<h3> Loading the data </h3>\n",
    "\n",
    "The task in this dataset is to predict first year GPA of college students based on\n",
    "\n",
    "1. HSGPA: High school GPA on a 0.0 to 4.0 scale\n",
    "2. SATV: Verbal/critical reading SAT score\n",
    "3. SATM: Math SAT score\n",
    "4. HU: Number of credit hours earned in humanities courses in high school\n",
    "5. SS: Number of credit hours earned in social science courses in high school\n",
    "6. CollegeBound: 1=attended a high school where >=50% students intended to go on to college, 0=otherwise"
   ]
  },
  {
   "cell_type": "code",
   "execution_count": 2,
   "metadata": {},
   "outputs": [
    {
     "data": {
      "text/html": [
       "<div>\n",
       "<style scoped>\n",
       "    .dataframe tbody tr th:only-of-type {\n",
       "        vertical-align: middle;\n",
       "    }\n",
       "\n",
       "    .dataframe tbody tr th {\n",
       "        vertical-align: top;\n",
       "    }\n",
       "\n",
       "    .dataframe thead th {\n",
       "        text-align: right;\n",
       "    }\n",
       "</style>\n",
       "<table border=\"1\" class=\"dataframe\">\n",
       "  <thead>\n",
       "    <tr style=\"text-align: right;\">\n",
       "      <th></th>\n",
       "      <th>GPA</th>\n",
       "      <th>HSGPA</th>\n",
       "      <th>SATV</th>\n",
       "      <th>SATM</th>\n",
       "      <th>HU</th>\n",
       "      <th>SS</th>\n",
       "      <th>CollegeBound</th>\n",
       "    </tr>\n",
       "  </thead>\n",
       "  <tbody>\n",
       "    <tr>\n",
       "      <th>0</th>\n",
       "      <td>3.06</td>\n",
       "      <td>3.83</td>\n",
       "      <td>680</td>\n",
       "      <td>770</td>\n",
       "      <td>3.0</td>\n",
       "      <td>9.0</td>\n",
       "      <td>1</td>\n",
       "    </tr>\n",
       "    <tr>\n",
       "      <th>1</th>\n",
       "      <td>4.15</td>\n",
       "      <td>4.00</td>\n",
       "      <td>740</td>\n",
       "      <td>720</td>\n",
       "      <td>9.0</td>\n",
       "      <td>3.0</td>\n",
       "      <td>1</td>\n",
       "    </tr>\n",
       "    <tr>\n",
       "      <th>2</th>\n",
       "      <td>3.41</td>\n",
       "      <td>3.70</td>\n",
       "      <td>640</td>\n",
       "      <td>570</td>\n",
       "      <td>16.0</td>\n",
       "      <td>13.0</td>\n",
       "      <td>1</td>\n",
       "    </tr>\n",
       "    <tr>\n",
       "      <th>3</th>\n",
       "      <td>3.21</td>\n",
       "      <td>3.51</td>\n",
       "      <td>740</td>\n",
       "      <td>700</td>\n",
       "      <td>22.0</td>\n",
       "      <td>0.0</td>\n",
       "      <td>1</td>\n",
       "    </tr>\n",
       "    <tr>\n",
       "      <th>4</th>\n",
       "      <td>3.48</td>\n",
       "      <td>3.83</td>\n",
       "      <td>610</td>\n",
       "      <td>610</td>\n",
       "      <td>30.5</td>\n",
       "      <td>1.5</td>\n",
       "      <td>1</td>\n",
       "    </tr>\n",
       "  </tbody>\n",
       "</table>\n",
       "</div>"
      ],
      "text/plain": [
       "    GPA  HSGPA  SATV  SATM    HU    SS  CollegeBound\n",
       "0  3.06   3.83   680   770   3.0   9.0             1\n",
       "1  4.15   4.00   740   720   9.0   3.0             1\n",
       "2  3.41   3.70   640   570  16.0  13.0             1\n",
       "3  3.21   3.51   740   700  22.0   0.0             1\n",
       "4  3.48   3.83   610   610  30.5   1.5             1"
      ]
     },
     "execution_count": 2,
     "metadata": {},
     "output_type": "execute_result"
    }
   ],
   "source": [
    "fyGPA = pd.read_csv('firstyearGPA.csv')\n",
    "fyGPA.head()"
   ]
  },
  {
   "cell_type": "markdown",
   "metadata": {},
   "source": [
    "As usual, we perform train/test split first. We can use random split"
   ]
  },
  {
   "cell_type": "code",
   "execution_count": 3,
   "metadata": {},
   "outputs": [],
   "source": [
    "from sklearn.model_selection import ShuffleSplit\n",
    "\n",
    "split = ShuffleSplit(n_splits=1, test_size=0.25, random_state=42)\n",
    "\n",
    "for train_index, test_index in split.split(fyGPA):\n",
    "    train_set = fyGPA.loc[train_index]\n",
    "    test_set = fyGPA.loc[test_index]"
   ]
  },
  {
   "cell_type": "markdown",
   "metadata": {},
   "source": [
    "And create different variables for input data and target data"
   ]
  },
  {
   "cell_type": "code",
   "execution_count": 4,
   "metadata": {},
   "outputs": [
    {
     "data": {
      "text/plain": [
       "((164, 6), (55, 6), (164,), (55,))"
      ]
     },
     "execution_count": 4,
     "metadata": {},
     "output_type": "execute_result"
    }
   ],
   "source": [
    "trainX = train_set.drop('GPA',axis=1)\n",
    "trainY = train_set['GPA']\n",
    "testX = test_set.drop('GPA',axis=1)\n",
    "testY = test_set['GPA']\n",
    "\n",
    "trainX.shape, testX.shape, trainY.shape, testY.shape"
   ]
  },
  {
   "cell_type": "markdown",
   "metadata": {},
   "source": [
    "Some descriptive statistics"
   ]
  },
  {
   "cell_type": "code",
   "execution_count": 5,
   "metadata": {},
   "outputs": [
    {
     "data": {
      "text/html": [
       "<div>\n",
       "<style scoped>\n",
       "    .dataframe tbody tr th:only-of-type {\n",
       "        vertical-align: middle;\n",
       "    }\n",
       "\n",
       "    .dataframe tbody tr th {\n",
       "        vertical-align: top;\n",
       "    }\n",
       "\n",
       "    .dataframe thead th {\n",
       "        text-align: right;\n",
       "    }\n",
       "</style>\n",
       "<table border=\"1\" class=\"dataframe\">\n",
       "  <thead>\n",
       "    <tr style=\"text-align: right;\">\n",
       "      <th></th>\n",
       "      <th>HSGPA</th>\n",
       "      <th>SATV</th>\n",
       "      <th>SATM</th>\n",
       "      <th>HU</th>\n",
       "      <th>SS</th>\n",
       "      <th>CollegeBound</th>\n",
       "    </tr>\n",
       "  </thead>\n",
       "  <tbody>\n",
       "    <tr>\n",
       "      <th>count</th>\n",
       "      <td>164.000000</td>\n",
       "      <td>164.000000</td>\n",
       "      <td>164.000000</td>\n",
       "      <td>164.000000</td>\n",
       "      <td>164.000000</td>\n",
       "      <td>164.000000</td>\n",
       "    </tr>\n",
       "    <tr>\n",
       "      <th>mean</th>\n",
       "      <td>3.477561</td>\n",
       "      <td>602.378049</td>\n",
       "      <td>632.378049</td>\n",
       "      <td>12.766463</td>\n",
       "      <td>7.466463</td>\n",
       "      <td>0.920732</td>\n",
       "    </tr>\n",
       "    <tr>\n",
       "      <th>std</th>\n",
       "      <td>0.359603</td>\n",
       "      <td>87.647249</td>\n",
       "      <td>78.121054</td>\n",
       "      <td>7.438395</td>\n",
       "      <td>5.060411</td>\n",
       "      <td>0.270984</td>\n",
       "    </tr>\n",
       "    <tr>\n",
       "      <th>min</th>\n",
       "      <td>2.610000</td>\n",
       "      <td>260.000000</td>\n",
       "      <td>430.000000</td>\n",
       "      <td>0.000000</td>\n",
       "      <td>0.000000</td>\n",
       "      <td>0.000000</td>\n",
       "    </tr>\n",
       "    <tr>\n",
       "      <th>25%</th>\n",
       "      <td>3.197500</td>\n",
       "      <td>560.000000</td>\n",
       "      <td>580.000000</td>\n",
       "      <td>7.000000</td>\n",
       "      <td>3.000000</td>\n",
       "      <td>1.000000</td>\n",
       "    </tr>\n",
       "    <tr>\n",
       "      <th>50%</th>\n",
       "      <td>3.530000</td>\n",
       "      <td>610.000000</td>\n",
       "      <td>640.000000</td>\n",
       "      <td>12.000000</td>\n",
       "      <td>6.500000</td>\n",
       "      <td>1.000000</td>\n",
       "    </tr>\n",
       "    <tr>\n",
       "      <th>75%</th>\n",
       "      <td>3.782500</td>\n",
       "      <td>662.500000</td>\n",
       "      <td>690.000000</td>\n",
       "      <td>17.000000</td>\n",
       "      <td>11.000000</td>\n",
       "      <td>1.000000</td>\n",
       "    </tr>\n",
       "    <tr>\n",
       "      <th>max</th>\n",
       "      <td>4.000000</td>\n",
       "      <td>740.000000</td>\n",
       "      <td>800.000000</td>\n",
       "      <td>40.000000</td>\n",
       "      <td>21.000000</td>\n",
       "      <td>1.000000</td>\n",
       "    </tr>\n",
       "  </tbody>\n",
       "</table>\n",
       "</div>"
      ],
      "text/plain": [
       "            HSGPA        SATV        SATM          HU          SS  \\\n",
       "count  164.000000  164.000000  164.000000  164.000000  164.000000   \n",
       "mean     3.477561  602.378049  632.378049   12.766463    7.466463   \n",
       "std      0.359603   87.647249   78.121054    7.438395    5.060411   \n",
       "min      2.610000  260.000000  430.000000    0.000000    0.000000   \n",
       "25%      3.197500  560.000000  580.000000    7.000000    3.000000   \n",
       "50%      3.530000  610.000000  640.000000   12.000000    6.500000   \n",
       "75%      3.782500  662.500000  690.000000   17.000000   11.000000   \n",
       "max      4.000000  740.000000  800.000000   40.000000   21.000000   \n",
       "\n",
       "       CollegeBound  \n",
       "count    164.000000  \n",
       "mean       0.920732  \n",
       "std        0.270984  \n",
       "min        0.000000  \n",
       "25%        1.000000  \n",
       "50%        1.000000  \n",
       "75%        1.000000  \n",
       "max        1.000000  "
      ]
     },
     "execution_count": 5,
     "metadata": {},
     "output_type": "execute_result"
    }
   ],
   "source": [
    "trainX.describe()"
   ]
  },
  {
   "cell_type": "code",
   "execution_count": 6,
   "metadata": {},
   "outputs": [
    {
     "data": {
      "image/png": "[encoded data removed]",
      "text/plain": [
       "<Figure size 1080x720 with 6 Axes>"
      ]
     },
     "metadata": {
      "needs_background": "light"
     },
     "output_type": "display_data"
    }
   ],
   "source": [
    "from matplotlib import pyplot as plt\n",
    "\n",
    "trainX.hist(bins=20, figsize=(15,10))\n",
    "plt.show()"
   ]
  },
  {
   "cell_type": "code",
   "execution_count": 7,
   "metadata": {},
   "outputs": [
    {
     "data": {
      "text/plain": [
       "count    164.000000\n",
       "mean       3.124268\n",
       "std        0.460804\n",
       "min        1.930000\n",
       "25%        2.825000\n",
       "50%        3.165000\n",
       "75%        3.492500\n",
       "max        4.150000\n",
       "Name: GPA, dtype: float64"
      ]
     },
     "execution_count": 7,
     "metadata": {},
     "output_type": "execute_result"
    }
   ],
   "source": [
    "trainY.describe()"
   ]
  },
  {
   "cell_type": "code",
   "execution_count": 8,
   "metadata": {},
   "outputs": [
    {
     "data": {
      "text/plain": [
       "<matplotlib.axes._subplots.AxesSubplot at 0x1d0b874e908>"
      ]
     },
     "execution_count": 8,
     "metadata": {},
     "output_type": "execute_result"
    },
    {
     "data": {
      "image/png": "[encoded data removed]",
      "text/plain": [
       "<Figure size 432x288 with 1 Axes>"
      ]
     },
     "metadata": {
      "needs_background": "light"
     },
     "output_type": "display_data"
    }
   ],
   "source": [
    "trainY.hist()"
   ]
  },
  {
   "cell_type": "markdown",
   "metadata": {},
   "source": [
    "There are no missing data or class data, so we can just standardize everything in a single numeric pipeline"
   ]
  },
  {
   "cell_type": "code",
   "execution_count": 9,
   "metadata": {},
   "outputs": [],
   "source": [
    "from sklearn.preprocessing import StandardScaler\n",
    "from sklearn.pipeline import Pipeline\n",
    "\n",
    "num_pipeline = Pipeline([\n",
    "    ('standardize', StandardScaler())\n",
    "])\n",
    "\n",
    "trainX_std = num_pipeline.fit_transform(trainX)"
   ]
  },
  {
   "cell_type": "markdown",
   "metadata": {},
   "source": [
    "<h3>Modeling</h3>\n",
    "\n",
    "The simplest model for regression is linear regression"
   ]
  },
  {
   "cell_type": "code",
   "execution_count": 31,
   "metadata": {},
   "outputs": [
    {
     "data": {
      "text/plain": [
       "LinearRegression(copy_X=True, fit_intercept=True, n_jobs=None, normalize=False)"
      ]
     },
     "execution_count": 31,
     "metadata": {},
     "output_type": "execute_result"
    }
   ],
   "source": [
    "from sklearn.linear_model import LinearRegression\n",
    "\n",
    "linear_reg = LinearRegression()\n",
    "\n",
    "linear_reg.fit(trainX_std,trainY)"
   ]
  },
  {
   "cell_type": "markdown",
   "metadata": {},
   "source": [
    "The most common evaluation measurement for regression problem is Mean Squared Error - MSE"
   ]
  },
  {
   "cell_type": "code",
   "execution_count": 32,
   "metadata": {},
   "outputs": [
    {
     "name": "stdout",
     "output_type": "stream",
     "text": [
      "0.14552902353784797\n"
     ]
    }
   ],
   "source": [
    "from sklearn.metrics import mean_squared_error\n",
    "\n",
    "#get the prediction\n",
    "trainY_pred = linear_reg.predict(trainX_std)\n",
    "\n",
    "#get the MSE\n",
    "mse_lr = mean_squared_error(trainY, trainY_pred)\n",
    "print(mse_lr)"
   ]
  },
  {
   "cell_type": "markdown",
   "metadata": {},
   "source": [
    "And we can obtain the Root Mean Squared Error - RMSE"
   ]
  },
  {
   "cell_type": "code",
   "execution_count": 33,
   "metadata": {},
   "outputs": [
    {
     "data": {
      "text/plain": [
       "0.3814826647933664"
      ]
     },
     "execution_count": 33,
     "metadata": {},
     "output_type": "execute_result"
    }
   ],
   "source": [
    "np.sqrt(mse_lr)"
   ]
  },
  {
   "cell_type": "markdown",
   "metadata": {},
   "source": [
    "RMSE is intepreted as the average errors between the predicted values and the true values, in this case, the predicted first year GPA and the true first year GPA of the students.\n",
    "\n",
    "Is this a good model? Recall, the range of GPA is from 0 - 4 (or in this data, 2.0 - 4.15), so is an average error of 0.381 good enough?\n",
    "\n",
    "Measurements like MSE and RMSE are dependent on the target range, and could be hard to interprete sometimes. We can use a different measurement that is the R-Squared"
   ]
  },
  {
   "cell_type": "code",
   "execution_count": 34,
   "metadata": {},
   "outputs": [
    {
     "name": "stdout",
     "output_type": "stream",
     "text": [
      "0.31043669279779373\n"
     ]
    }
   ],
   "source": [
    "from sklearn.metrics import r2_score\n",
    "\n",
    "r2_lr = r2_score(trainY, trainY_pred)\n",
    "print(r2_lr)"
   ]
  },
  {
   "cell_type": "markdown",
   "metadata": {},
   "source": [
    "R2 score is always less than 1, and it is interpreted as the percentage of variation in the data that our model can explain. In cases with very bad-fit models, R2 can get to negative values.\n",
    "\n",
    "In this case, this linear regression model can explain 31% variation in the data, so it is not that good.\n",
    "\n",
    "<h4>Cross-Validation Measurements</h4>\n",
    "\n",
    "We've been fitting and testing the linear regression model on the same training data. A better way is to use cross_val_score() as in classification"
   ]
  },
  {
   "cell_type": "code",
   "execution_count": 35,
   "metadata": {},
   "outputs": [
    {
     "name": "stdout",
     "output_type": "stream",
     "text": [
      "MSE:  0.16180929755761825\n",
      "R2:  0.20242838730817966\n"
     ]
    }
   ],
   "source": [
    "from sklearn.model_selection import cross_val_score\n",
    "\n",
    "mse_lr_cv = - cross_val_score(linear_reg, trainX_std, trainY, cv=5, scoring='neg_mean_squared_error')\n",
    "r2_lr_cv = cross_val_score(linear_reg, trainX_std, trainY, cv=5, scoring='r2')\n",
    "\n",
    "print('MSE: ', mse_lr_cv.mean())\n",
    "print('R2: ', r2_lr_cv.mean())"
   ]
  },
  {
   "cell_type": "markdown",
   "metadata": {},
   "source": [
    "so, this linear regression model is a bit worse when applying on new data.\n",
    "\n",
    "Let's try a random forest. Note that in this case we need to use RandomForestRegressor instead of RandomForestClassifier as in classification tasks."
   ]
  },
  {
   "cell_type": "code",
   "execution_count": 36,
   "metadata": {},
   "outputs": [
    {
     "name": "stdout",
     "output_type": "stream",
     "text": [
      "MSE:  0.174961815939394\n",
      "R2:  0.14442278205373588\n"
     ]
    }
   ],
   "source": [
    "from sklearn.ensemble import RandomForestRegressor\n",
    "\n",
    "rf_reg = RandomForestRegressor()\n",
    "\n",
    "mse_rf_cv = - cross_val_score(rf_reg, trainX_std, trainY, cv=5, scoring='neg_mean_squared_error')\n",
    "r2_rf_cv = cross_val_score(rf_reg, trainX_std, trainY, cv=5, scoring='r2')\n",
    "\n",
    "print('MSE: ', mse_rf_cv.mean())\n",
    "print('R2: ', r2_rf_cv.mean())"
   ]
  },
  {
   "cell_type": "markdown",
   "metadata": {},
   "source": [
    "And it is a bit worse than the simple linear regression, possibly due to the small size of this dataset (164 instances in training)"
   ]
  },
  {
   "cell_type": "markdown",
   "metadata": {},
   "source": [
    "Unlike classification with many measurements to evaluate your models, in regression, most of the times we just use MSE/RMSE and R2. To obtain the predicted value, we can use cross_val_predict()"
   ]
  },
  {
   "cell_type": "code",
   "execution_count": 16,
   "metadata": {},
   "outputs": [],
   "source": [
    "from sklearn.model_selection import cross_val_predict\n",
    "\n",
    "trainY_pred_lrcv = cross_val_predict(linear_reg, trainX, trainY, cv=5)"
   ]
  },
  {
   "cell_type": "markdown",
   "metadata": {},
   "source": [
    "If you want to see the true values and the predicted values"
   ]
  },
  {
   "cell_type": "code",
   "execution_count": 17,
   "metadata": {},
   "outputs": [
    {
     "data": {
      "text/plain": [
       "[(2.58, 2.8938510663738333),\n",
       " (3.16, 3.216037052226341),\n",
       " (2.51, 3.0278287763695686),\n",
       " (2.1, 2.904162729525621),\n",
       " (3.41, 3.177196688607547),\n",
       " (2.84, 3.405919368087465),\n",
       " (2.95, 3.041827942709774),\n",
       " (2.4, 2.4283914000233984),\n",
       " (2.24, 3.0979242475482147),\n",
       " (3.31, 3.0325037509784476),\n",
       " (3.68, 2.90908448642938),\n",
       " (2.74, 2.9184722570084567),\n",
       " (3.11, 3.0987471558495723),\n",
       " (3.38, 3.220818162422134),\n",
       " (2.91, 3.255707840028155),\n",
       " (3.51, 3.3122279929396368),\n",
       " (3.0, 2.601933775072194),\n",
       " (3.85, 3.5628315724954835),\n",
       " (2.59, 3.1130518177905517),\n",
       " (3.2, 2.8718116907248934),\n",
       " (3.41, 3.5261981555573114),\n",
       " (3.34, 2.9539095132493665),\n",
       " (3.23, 3.31738935963192),\n",
       " (3.37, 3.4087254901484103),\n",
       " (2.9, 3.0495638478230886),\n",
       " (3.21, 2.765332158894224),\n",
       " (3.66, 3.0859815686475627),\n",
       " (2.27, 2.7385195580187225),\n",
       " (3.13, 2.976713070392505),\n",
       " (1.97, 2.439013409048107),\n",
       " (3.75, 2.8513503401851814),\n",
       " (3.14, 2.68237679385775),\n",
       " (3.4, 2.910792534061536),\n",
       " (3.33, 3.2154537156720786),\n",
       " (2.93, 3.0997248228041774),\n",
       " (3.67, 2.854944698508399),\n",
       " (3.41, 3.3180577460061516),\n",
       " (3.04, 3.0835732733726346),\n",
       " (3.82, 3.2955480063654434),\n",
       " (2.87, 2.706094808231742),\n",
       " (3.11, 3.5272510949945537),\n",
       " (3.49, 3.2844176805888954),\n",
       " (2.45, 2.7201676096074223),\n",
       " (3.77, 3.3825180466345315),\n",
       " (3.15, 3.0504852315127087),\n",
       " (3.71, 3.458775927307304),\n",
       " (3.66, 3.568050449366527),\n",
       " (3.06, 3.0718023443565072),\n",
       " (2.81, 3.1729910720207126),\n",
       " (2.9, 3.2590356123137947),\n",
       " (3.12, 3.020974522380263),\n",
       " (3.61, 3.229047554601564),\n",
       " (3.18, 3.315224504865679),\n",
       " (3.31, 3.285713088435974),\n",
       " (3.56, 2.8939693454538893),\n",
       " (3.6, 3.334392807555453),\n",
       " (2.29, 3.0804114422239124),\n",
       " (2.85, 3.346386378916686),\n",
       " (3.67, 3.2997161081632433),\n",
       " (3.33, 3.0983225414473847),\n",
       " (3.48, 3.502704051419968),\n",
       " (3.0, 3.2023172047318087),\n",
       " (3.07, 3.339983393652635),\n",
       " (3.79, 3.3804684256678272),\n",
       " (2.95, 3.1824319499997022),\n",
       " (3.0, 2.5633758102529813),\n",
       " (3.74, 3.494609610829493),\n",
       " (3.25, 2.858091472147338),\n",
       " (2.7, 3.1228890518962173),\n",
       " (3.67, 3.5685680482962985),\n",
       " (3.52, 3.1702937235740554),\n",
       " (2.58, 2.9752320154189693),\n",
       " (3.06, 3.279873477970044),\n",
       " (3.52, 3.194010134358637),\n",
       " (3.58, 3.3125728621231865),\n",
       " (2.84, 3.6169658983559696),\n",
       " (3.06, 2.9558908950653238),\n",
       " (3.89, 3.507897288184838),\n",
       " (3.16, 3.140192921655597),\n",
       " (2.97, 2.804018233707574),\n",
       " (3.43, 2.9561832792489633),\n",
       " (3.32, 3.385548722185362),\n",
       " (3.56, 3.272763294157684),\n",
       " (2.29, 2.8537733906263734),\n",
       " (2.95, 2.833281054470066),\n",
       " (3.44, 2.8236361981316302),\n",
       " (3.79, 3.2321175691054194),\n",
       " (2.75, 3.3343907667570223),\n",
       " (2.32, 3.2560676175084624),\n",
       " (2.7, 3.348895942464386),\n",
       " (2.74, 3.0125400766918267),\n",
       " (2.23, 2.980145108472213),\n",
       " (3.33, 3.2901298628745033),\n",
       " (2.23, 2.5568056280373184),\n",
       " (3.21, 3.4422928654459306),\n",
       " (3.34, 3.124148474249706),\n",
       " (3.52, 2.7801883379787133),\n",
       " (3.57, 3.066119403322017),\n",
       " (3.11, 3.2190118072502014),\n",
       " (3.97, 2.904017882280916),\n",
       " (3.69, 3.1234985228250416),\n",
       " (2.8, 3.135763359922966),\n",
       " (3.17, 3.1477991118507105),\n",
       " (3.53, 3.5322727997628274),\n",
       " (2.87, 2.77183825281128),\n",
       " (3.24, 3.2056398331779143),\n",
       " (3.6, 3.0893009893028816),\n",
       " (3.52, 3.1153701459203815),\n",
       " (3.63, 3.1262874166754573),\n",
       " (2.76, 3.0303986051414107),\n",
       " (3.25, 3.1236005340012616),\n",
       " (3.67, 3.0064300755507465),\n",
       " (2.58, 3.2130836356772097),\n",
       " (3.29, 3.217741497750292),\n",
       " (2.83, 2.8891579016558526),\n",
       " (3.48, 3.167948063184377),\n",
       " (3.42, 3.24773826004458),\n",
       " (3.06, 3.0603144354200715),\n",
       " (2.67, 2.4572744551429464),\n",
       " (3.2, 3.007489963212752),\n",
       " (3.65, 3.4613231954473487),\n",
       " (1.93, 2.727466065795259),\n",
       " (2.56, 3.169588489143619),\n",
       " (2.9, 3.1164677832377037),\n",
       " (3.28, 3.0688115758641286),\n",
       " (2.97, 3.3646431238716126),\n",
       " (2.69, 3.125857595609742),\n",
       " (2.63, 2.5099498993985065),\n",
       " (2.88, 3.4322488503987487),\n",
       " (3.06, 2.9583705203122515),\n",
       " (3.34, 3.4243474255556365),\n",
       " (3.44, 3.431463578234511),\n",
       " (3.28, 3.158597895493606),\n",
       " (2.72, 3.0392637358068577),\n",
       " (3.66, 3.5652560620839724),\n",
       " (3.1, 2.953157847953728),\n",
       " (2.52, 2.6732909855579834),\n",
       " (2.6, 2.9448362871138865),\n",
       " (2.74, 3.680428007144488),\n",
       " (2.19, 2.940176571981465),\n",
       " (3.26, 3.3584157210927224),\n",
       " (2.59, 3.295151356318019),\n",
       " (2.24, 2.3606122482928753),\n",
       " (4.15, 3.412515444937639),\n",
       " (2.77, 3.205777769468021),\n",
       " (2.68, 3.1676712597539103),\n",
       " (3.32, 3.324663048076732),\n",
       " (3.75, 3.08829788325683),\n",
       " (3.46, 3.211813160883605),\n",
       " (2.88, 3.105394121584115),\n",
       " (3.53, 3.3300313212758486),\n",
       " (3.27, 3.2291985954816416),\n",
       " (2.38, 2.7527227304007993),\n",
       " (3.48, 3.1763107598437186),\n",
       " (2.89, 3.128461451117579),\n",
       " (2.62, 2.8103098316971202),\n",
       " (3.78, 3.3874349734728026),\n",
       " (2.41, 2.6587179433319696),\n",
       " (3.88, 3.428754557462031),\n",
       " (3.5, 3.398053238468087),\n",
       " (3.5, 3.4171173269603092),\n",
       " (2.83, 3.243504957424298),\n",
       " (3.2, 3.103847137900632),\n",
       " (3.03, 3.291586200553124)]"
      ]
     },
     "execution_count": 17,
     "metadata": {},
     "output_type": "execute_result"
    }
   ],
   "source": [
    "list(zip(trainY, trainY_pred_lrcv))"
   ]
  },
  {
   "cell_type": "markdown",
   "metadata": {},
   "source": [
    "<h3> More on Linear Regression Models </h3>\n",
    "\n",
    "Linear regression is among the simplest models for regression tasks. For a given dataset that have features $x_1, x_2, ... x_k$ and target $y$, linear regression train a model in the form\n",
    "\n",
    "$y = \\beta_0 + \\beta_1 x_1 + \\beta_2 x_2 + ... + \\beta_k x_k$\n",
    "\n",
    "$\\beta_0$ is call the intercept, and all other $\\beta$ are called coefficients. \n",
    "\n",
    "You can see, this model estimates the target $y$ using a <b>linear</b> function of all inputs, hence the name linear regression\n",
    "\n",
    "In sklearn, we can obtain the coefficients of a trained linear regression model with <b>coef_</b>. The coefficients are in the same order as the input features in the data (in this case, trainX)"
   ]
  },
  {
   "cell_type": "code",
   "execution_count": 19,
   "metadata": {},
   "outputs": [
    {
     "data": {
      "text/plain": [
       "array([ 4.47023943e-01,  1.19798491e-03,  3.04604962e-04,  1.46718021e-02,\n",
       "        5.63376169e-03, -8.28456914e-03])"
      ]
     },
     "execution_count": 19,
     "metadata": {},
     "output_type": "execute_result"
    }
   ],
   "source": [
    "linear_reg.coef_"
   ]
  },
  {
   "cell_type": "code",
   "execution_count": 21,
   "metadata": {},
   "outputs": [
    {
     "data": {
      "text/plain": [
       "Index(['HSGPA', 'SATV', 'SATM', 'HU', 'SS', 'CollegeBound'], dtype='object')"
      ]
     },
     "execution_count": 21,
     "metadata": {},
     "output_type": "execute_result"
    }
   ],
   "source": [
    "trainX.columns"
   ]
  },
  {
   "cell_type": "markdown",
   "metadata": {},
   "source": [
    "And the intercept"
   ]
  },
  {
   "cell_type": "code",
   "execution_count": 20,
   "metadata": {},
   "outputs": [
    {
     "data": {
      "text/plain": [
       "0.433706538432455"
      ]
     },
     "execution_count": 20,
     "metadata": {},
     "output_type": "execute_result"
    }
   ],
   "source": [
    "linear_reg.intercept_"
   ]
  },
  {
   "cell_type": "markdown",
   "metadata": {},
   "source": [
    "So, we can write the equation to predict a student's GPA as\n",
    "\n",
    "$GPA = 0.4337 + 0.447\\times HSGPA + 0.0012\\times SATV + 0.0003\\times SATM + 0.0147\\times HU + 0.0056 \\times SS - 0.0083 \\times CollegeBound$\n",
    "\n",
    "And we can use that equation to predict new students' first year GPA (or we can use the predict function of the model)\n",
    "\n",
    "You can see, this linear regression model previously achieved an R2 of 0.2 - not particularly good for prediction. We can investigate more on this by using scatter plots of the target vs. each feature"
   ]
  },
  {
   "cell_type": "code",
   "execution_count": 24,
   "metadata": {
    "scrolled": false
   },
   "outputs": [
    {
     "name": "stdout",
     "output_type": "stream",
     "text": [
      "HSGPA\n"
     ]
    },
    {
     "data": {
      "image/png": "[encoded data removed]",
      "text/plain": [
       "<Figure size 432x288 with 1 Axes>"
      ]
     },
     "metadata": {
      "needs_background": "light"
     },
     "output_type": "display_data"
    },
    {
     "name": "stdout",
     "output_type": "stream",
     "text": [
      "SATV\n"
     ]
    },
    {
     "data": {
      "image/png": "[encoded data removed]",
      "text/plain": [
       "<Figure size 432x288 with 1 Axes>"
      ]
     },
     "metadata": {
      "needs_background": "light"
     },
     "output_type": "display_data"
    },
    {
     "name": "stdout",
     "output_type": "stream",
     "text": [
      "SATM\n"
     ]
    },
    {
     "data": {
      "image/png": "[encoded data removed]",
      "text/plain": [
       "<Figure size 432x288 with 1 Axes>"
      ]
     },
     "metadata": {
      "needs_background": "light"
     },
     "output_type": "display_data"
    },
    {
     "name": "stdout",
     "output_type": "stream",
     "text": [
      "HU\n"
     ]
    },
    {
     "data": {
      "image/png": "[encoded data removed]",
      "text/plain": [
       "<Figure size 432x288 with 1 Axes>"
      ]
     },
     "metadata": {
      "needs_background": "light"
     },
     "output_type": "display_data"
    },
    {
     "name": "stdout",
     "output_type": "stream",
     "text": [
      "SS\n"
     ]
    },
    {
     "data": {
      "image/png": "[encoded data removed]",
      "text/plain": [
       "<Figure size 432x288 with 1 Axes>"
      ]
     },
     "metadata": {
      "needs_background": "light"
     },
     "output_type": "display_data"
    },
    {
     "name": "stdout",
     "output_type": "stream",
     "text": [
      "CollegeBound\n"
     ]
    },
    {
     "data": {
      "image/png": "[encoded data removed]",
      "text/plain": [
       "<Figure size 432x288 with 1 Axes>"
      ]
     },
     "metadata": {
      "needs_background": "light"
     },
     "output_type": "display_data"
    }
   ],
   "source": [
    "for col in trainX.columns:\n",
    "    print(col)\n",
    "    plt.scatter(trainX[col], trainY)\n",
    "    plt.xlabel(col)\n",
    "    plt.ylabel('First Year GPA')\n",
    "    plt.show()"
   ]
  },
  {
   "cell_type": "markdown",
   "metadata": {},
   "source": [
    "As you can see, none of the features show any strong patterns with the target (first year GPA) - indicated by the spread-out and almost random patterns in all scatter plots. \n",
    "\n",
    "There is not much we can do in this kind of data - we don't have enough information to create a good model. \n",
    "\n",
    "If you really want to try to improve, however, there could be some curve patterns in the features vs. target. So, we may create log version, and squared version of the features. We will do that with FunctionTransformer and ColumnTransformer as usual"
   ]
  },
  {
   "cell_type": "code",
   "execution_count": 26,
   "metadata": {},
   "outputs": [],
   "source": [
    "def log_and_sqr_transform(X):                               #input of the function is any dataset X\n",
    "    log_X = np.log(X + 0.001)                               #log of all columns of X, we add 0.001 to avoid log(0)\n",
    "    sqr_X = X**2\n",
    "    return np.c_[X,log_X,sqr_X]    "
   ]
  },
  {
   "cell_type": "markdown",
   "metadata": {},
   "source": [
    "We will also standardize all columns. So, the complete transformation pipeline is as"
   ]
  },
  {
   "cell_type": "code",
   "execution_count": 27,
   "metadata": {},
   "outputs": [],
   "source": [
    "from sklearn.preprocessing import FunctionTransformer\n",
    "\n",
    "num_pipeline_2 = Pipeline([\n",
    "    ('log and sqr transform', FunctionTransformer(log_and_sqr_transform, validate=False)),\n",
    "    ('standardize', StandardScaler())\n",
    "])"
   ]
  },
  {
   "cell_type": "markdown",
   "metadata": {},
   "source": [
    "Now we transform the data"
   ]
  },
  {
   "cell_type": "code",
   "execution_count": 29,
   "metadata": {},
   "outputs": [
    {
     "data": {
      "text/plain": [
       "(164, 18)"
      ]
     },
     "execution_count": 29,
     "metadata": {},
     "output_type": "execute_result"
    }
   ],
   "source": [
    "trainX_prc = num_pipeline_2.fit_transform(trainX)\n",
    "\n",
    "trainX_prc.shape"
   ]
  },
  {
   "cell_type": "markdown",
   "metadata": {},
   "source": [
    "and test another linear regression model"
   ]
  },
  {
   "cell_type": "code",
   "execution_count": 30,
   "metadata": {},
   "outputs": [
    {
     "name": "stdout",
     "output_type": "stream",
     "text": [
      "MSE:  0.17070243102419344\n",
      "R2:  0.15828810524287534\n"
     ]
    }
   ],
   "source": [
    "mse_lr2_cv = - cross_val_score(linear_reg, trainX_prc, trainY, cv=5, scoring='neg_mean_squared_error')\n",
    "r2_lr2_cv = cross_val_score(linear_reg, trainX_prc, trainY, cv=5, scoring='r2')\n",
    "\n",
    "print('MSE: ', mse_lr2_cv.mean())\n",
    "print('R2: ', r2_lr2_cv.mean())"
   ]
  },
  {
   "cell_type": "markdown",
   "metadata": {},
   "source": [
    "So... both MSE and R2 become worse, which suggests we probably should just go with the first model. This is not that odd in data analytics, when you try to include more versions of the same features, you may introduce more noises to the input data and ultimately make all models worse."
   ]
  },
  {
   "cell_type": "code",
   "execution_count": null,
   "metadata": {},
   "outputs": [],
   "source": []
  }
 ],
 "metadata": {
  "kernelspec": {
   "display_name": "Python 3",
   "language": "python",
   "name": "python3"
  },
  "language_info": {
   "codemirror_mode": {
    "name": "ipython",
    "version": 3
   },
   "file_extension": ".py",
   "mimetype": "text/x-python",
   "name": "python",
   "nbconvert_exporter": "python",
   "pygments_lexer": "ipython3",
   "version": "3.7.6"
  }
 },
 "nbformat": 4,
 "nbformat_minor": 2
}
